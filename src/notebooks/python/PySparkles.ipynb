{
 "cells": [
  {
   "cell_type": "code",
   "execution_count": 76,
   "metadata": {},
   "outputs": [
    {
     "name": "stdout",
     "output_type": "stream",
     "text": [
      "The autoreload extension is already loaded. To reload it, use:\n",
      "  %reload_ext autoreload\n"
     ]
    }
   ],
   "source": [
    "%load_ext autoreload\n",
    "%autoreload 2 \n",
    "from IPython.core.interactiveshell import InteractiveShell\n",
    "InteractiveShell.ast_node_interactivity = \"all\""
   ]
  },
  {
   "cell_type": "code",
   "execution_count": 2,
   "metadata": {},
   "outputs": [],
   "source": [
    "import findspark\n",
    "findspark.init()"
   ]
  },
  {
   "cell_type": "code",
   "execution_count": 3,
   "metadata": {},
   "outputs": [],
   "source": [
    "from random import random\n",
    "from operator import add\n",
    "from pyspark.sql import SparkSession\n",
    "import pandas as pd\n",
    "\n",
    "\n",
    "DATA_DIR = '/home/bob/gtd/Iconic/data/samples/'"
   ]
  },
  {
   "cell_type": "code",
   "execution_count": 120,
   "metadata": {},
   "outputs": [],
   "source": [
    "affs_country = pd.read_csv('/home/bob/gtd/Iconic/data/Affiliations_FC.txt', sep = '\\t')\n",
    "affs_country = affs_country.drop(columns = ['Unnamed: 0'])\n",
    "# affs_country['country'] = affs_country['country'].astype(str).apply(lambda string : string[1:-1].replace(\"'\",\"\"))\n",
    "# affs_country['countryCode'] = affs_country['country'].apply(lambda string : \"\".join(string.split(',')[:-1]))\n",
    "# affs_country['country'] = affs_country['country'].apply(lambda string : \"\".join(string.split(',')[-1:]))"
   ]
  },
  {
   "cell_type": "code",
   "execution_count": 121,
   "metadata": {},
   "outputs": [
    {
     "data": {
      "text/html": [
       "<div>\n",
       "<style scoped>\n",
       "    .dataframe tbody tr th:only-of-type {\n",
       "        vertical-align: middle;\n",
       "    }\n",
       "\n",
       "    .dataframe tbody tr th {\n",
       "        vertical-align: top;\n",
       "    }\n",
       "\n",
       "    .dataframe thead th {\n",
       "        text-align: right;\n",
       "    }\n",
       "</style>\n",
       "<table border=\"1\" class=\"dataframe\">\n",
       "  <thead>\n",
       "    <tr style=\"text-align: right;\">\n",
       "      <th></th>\n",
       "      <th>id</th>\n",
       "      <th>rank</th>\n",
       "      <th>name</th>\n",
       "      <th>dname</th>\n",
       "      <th>grid</th>\n",
       "      <th>page</th>\n",
       "      <th>wiki</th>\n",
       "      <th>papers</th>\n",
       "      <th>citations</th>\n",
       "      <th>created_at</th>\n",
       "      <th>country</th>\n",
       "      <th>countryCode</th>\n",
       "    </tr>\n",
       "  </thead>\n",
       "  <tbody>\n",
       "    <tr>\n",
       "      <th>0</th>\n",
       "      <td>20455151</td>\n",
       "      <td>9759</td>\n",
       "      <td>air liquide</td>\n",
       "      <td>Air Liquide</td>\n",
       "      <td>grid.476009.c</td>\n",
       "      <td>https://web.archive.org/web/20100205175402/htt...</td>\n",
       "      <td>http://en.wikipedia.org/wiki/Air_Liquide</td>\n",
       "      <td>6314</td>\n",
       "      <td>44828</td>\n",
       "      <td>2016-06-24</td>\n",
       "      <td>Grande Prairie</td>\n",
       "      <td>CAN</td>\n",
       "    </tr>\n",
       "    <tr>\n",
       "      <th>1</th>\n",
       "      <td>24386293</td>\n",
       "      <td>13640</td>\n",
       "      <td>hellenic national meteorological service</td>\n",
       "      <td>Hellenic National Meteorological Service</td>\n",
       "      <td>NaN</td>\n",
       "      <td>http://www.hnms.gr/hnms/english/index_html</td>\n",
       "      <td>http://en.wikipedia.org/wiki/Hellenic_National...</td>\n",
       "      <td>81</td>\n",
       "      <td>1531</td>\n",
       "      <td>2016-06-24</td>\n",
       "      <td>South East</td>\n",
       "      <td>BWA</td>\n",
       "    </tr>\n",
       "    <tr>\n",
       "      <th>2</th>\n",
       "      <td>32956416</td>\n",
       "      <td>13117</td>\n",
       "      <td>catholic university of the west</td>\n",
       "      <td>Catholic University of the West</td>\n",
       "      <td>grid.448708.7</td>\n",
       "      <td>http://www.uco.fr/</td>\n",
       "      <td>http://en.wikipedia.org/wiki/Catholic_Universi...</td>\n",
       "      <td>236</td>\n",
       "      <td>2565</td>\n",
       "      <td>2016-06-24</td>\n",
       "      <td>Fort Worth</td>\n",
       "      <td>USA</td>\n",
       "    </tr>\n",
       "    <tr>\n",
       "      <th>3</th>\n",
       "      <td>35926432</td>\n",
       "      <td>12053</td>\n",
       "      <td>mackay medical college</td>\n",
       "      <td>Mackay Medical College</td>\n",
       "      <td>grid.452449.a</td>\n",
       "      <td>http://www.mmc.edu.tw/</td>\n",
       "      <td>http://en.wikipedia.org/wiki/Mackay_Medical_Co...</td>\n",
       "      <td>815</td>\n",
       "      <td>6080</td>\n",
       "      <td>2016-06-24</td>\n",
       "      <td>三芝區</td>\n",
       "      <td>TWN</td>\n",
       "    </tr>\n",
       "    <tr>\n",
       "      <th>4</th>\n",
       "      <td>37448385</td>\n",
       "      <td>11782</td>\n",
       "      <td>chinese people s public security university</td>\n",
       "      <td>Chinese People's Public Security University</td>\n",
       "      <td>NaN</td>\n",
       "      <td>http://www.ppsuc.edu.cn/</td>\n",
       "      <td>http://en.wikipedia.org/wiki/People's_Public_S...</td>\n",
       "      <td>1502</td>\n",
       "      <td>1195</td>\n",
       "      <td>2016-06-24</td>\n",
       "      <td>University</td>\n",
       "      <td>USA</td>\n",
       "    </tr>\n",
       "    <tr>\n",
       "      <th>5</th>\n",
       "      <td>37712293</td>\n",
       "      <td>13170</td>\n",
       "      <td>madeira interactive technologies institute</td>\n",
       "      <td>Madeira Interactive Technologies Institute</td>\n",
       "      <td>NaN</td>\n",
       "      <td>http://www.m-iti.org/</td>\n",
       "      <td>http://en.wikipedia.org/wiki/Madeira_Interacti...</td>\n",
       "      <td>296</td>\n",
       "      <td>1409</td>\n",
       "      <td>2016-06-24</td>\n",
       "      <td>Johannesburg</td>\n",
       "      <td>ZAF</td>\n",
       "    </tr>\n",
       "    <tr>\n",
       "      <th>6</th>\n",
       "      <td>42117203</td>\n",
       "      <td>16960</td>\n",
       "      <td>queen s college london</td>\n",
       "      <td>Queen's College, London</td>\n",
       "      <td>NaN</td>\n",
       "      <td>http://www.qcl.org.uk/</td>\n",
       "      <td>http://en.wikipedia.org/wiki/Queen's_College,_...</td>\n",
       "      <td>8</td>\n",
       "      <td>10</td>\n",
       "      <td>2016-06-24</td>\n",
       "      <td>London</td>\n",
       "      <td>GBR</td>\n",
       "    </tr>\n",
       "    <tr>\n",
       "      <th>7</th>\n",
       "      <td>50614327</td>\n",
       "      <td>11813</td>\n",
       "      <td>amec foster wheeler</td>\n",
       "      <td>Amec Foster Wheeler</td>\n",
       "      <td>grid.480159.1</td>\n",
       "      <td>http://www.amecfw.com/</td>\n",
       "      <td>http://en.wikipedia.org/wiki/Amec_Foster_Wheeler</td>\n",
       "      <td>951</td>\n",
       "      <td>7423</td>\n",
       "      <td>2016-06-24</td>\n",
       "      <td>Chennai</td>\n",
       "      <td>IND</td>\n",
       "    </tr>\n",
       "    <tr>\n",
       "      <th>8</th>\n",
       "      <td>62987803</td>\n",
       "      <td>16029</td>\n",
       "      <td>ukrainian state university of finance and inte...</td>\n",
       "      <td>Ukrainian State University of Finance and Inte...</td>\n",
       "      <td>grid.445773.6</td>\n",
       "      <td>http://usufit.edu.ua/</td>\n",
       "      <td>http://en.wikipedia.org/wiki/Ukrainian_State_U...</td>\n",
       "      <td>21</td>\n",
       "      <td>18</td>\n",
       "      <td>2016-06-24</td>\n",
       "      <td>Xalapa</td>\n",
       "      <td>MEX</td>\n",
       "    </tr>\n",
       "    <tr>\n",
       "      <th>9</th>\n",
       "      <td>71576600</td>\n",
       "      <td>14540</td>\n",
       "      <td>ural state mining university</td>\n",
       "      <td>Ural State Mining University</td>\n",
       "      <td>grid.446243.3</td>\n",
       "      <td>http://www.ursmu.ru/</td>\n",
       "      <td>http://en.wikipedia.org/wiki/Ural_State_Mining...</td>\n",
       "      <td>89</td>\n",
       "      <td>78</td>\n",
       "      <td>2016-06-24</td>\n",
       "      <td>University</td>\n",
       "      <td>USA</td>\n",
       "    </tr>\n",
       "    <tr>\n",
       "      <th>10</th>\n",
       "      <td>76806421</td>\n",
       "      <td>12860</td>\n",
       "      <td>selex sistemi integrati</td>\n",
       "      <td>SELEX Sistemi Integrati</td>\n",
       "      <td>grid.9371.c</td>\n",
       "      <td>http://www.leonardocompany.com//</td>\n",
       "      <td>http://en.wikipedia.org/wiki/SELEX_Sistemi_Int...</td>\n",
       "      <td>353</td>\n",
       "      <td>1799</td>\n",
       "      <td>2016-06-24</td>\n",
       "      <td>București</td>\n",
       "      <td>ROU</td>\n",
       "    </tr>\n",
       "    <tr>\n",
       "      <th>11</th>\n",
       "      <td>78757542</td>\n",
       "      <td>7472</td>\n",
       "      <td>university of newcastle</td>\n",
       "      <td>University of Newcastle</td>\n",
       "      <td>grid.266842.c</td>\n",
       "      <td>http://www.newcastle.edu.au/</td>\n",
       "      <td>http://en.wikipedia.org/wiki/University_of_New...</td>\n",
       "      <td>41529</td>\n",
       "      <td>872022</td>\n",
       "      <td>2016-06-24</td>\n",
       "      <td>Sydney</td>\n",
       "      <td>AUS</td>\n",
       "    </tr>\n",
       "    <tr>\n",
       "      <th>12</th>\n",
       "      <td>80046288</td>\n",
       "      <td>10235</td>\n",
       "      <td>walden university</td>\n",
       "      <td>Walden University</td>\n",
       "      <td>grid.412868.1</td>\n",
       "      <td>http://www.waldenu.edu/</td>\n",
       "      <td>http://en.wikipedia.org/wiki/Walden_University</td>\n",
       "      <td>3392</td>\n",
       "      <td>14419</td>\n",
       "      <td>2016-06-24</td>\n",
       "      <td>Minneapolis</td>\n",
       "      <td>USA</td>\n",
       "    </tr>\n",
       "    <tr>\n",
       "      <th>13</th>\n",
       "      <td>81020251</td>\n",
       "      <td>14245</td>\n",
       "      <td>great lakes institute of management</td>\n",
       "      <td>Great Lakes Institute of Management</td>\n",
       "      <td>grid.464927.a</td>\n",
       "      <td>NaN</td>\n",
       "      <td>NaN</td>\n",
       "      <td>103</td>\n",
       "      <td>713</td>\n",
       "      <td>2016-06-24</td>\n",
       "      <td>Manesar Sub-District</td>\n",
       "      <td>IND</td>\n",
       "    </tr>\n",
       "    <tr>\n",
       "      <th>14</th>\n",
       "      <td>83776822</td>\n",
       "      <td>11597</td>\n",
       "      <td>shandong institute of business and technology</td>\n",
       "      <td>Shandong Institute of Business and Technology</td>\n",
       "      <td>grid.443652.2</td>\n",
       "      <td>http://www.sdibt.edu.cn/</td>\n",
       "      <td>http://en.wikipedia.org/wiki/Shandong_Institut...</td>\n",
       "      <td>1728</td>\n",
       "      <td>2280</td>\n",
       "      <td>2016-06-24</td>\n",
       "      <td>Rajshahi</td>\n",
       "      <td>BGD</td>\n",
       "    </tr>\n",
       "    <tr>\n",
       "      <th>15</th>\n",
       "      <td>84117484</td>\n",
       "      <td>17148</td>\n",
       "      <td>college boreal</td>\n",
       "      <td>Collège Boréal</td>\n",
       "      <td>grid.421295.9</td>\n",
       "      <td>http://www.collegeboreal.ca/</td>\n",
       "      <td>http://en.wikipedia.org/wiki/Collège_Boréal</td>\n",
       "      <td>7</td>\n",
       "      <td>11</td>\n",
       "      <td>2016-06-24</td>\n",
       "      <td>Greater Sudbury</td>\n",
       "      <td>CAN</td>\n",
       "    </tr>\n",
       "    <tr>\n",
       "      <th>16</th>\n",
       "      <td>90303723</td>\n",
       "      <td>13674</td>\n",
       "      <td>scientific council for government policy</td>\n",
       "      <td>Scientific Council for Government Policy</td>\n",
       "      <td>grid.465268.b</td>\n",
       "      <td>http://www.wrr.nl/</td>\n",
       "      <td>http://en.wikipedia.org/wiki/Scientific_Counci...</td>\n",
       "      <td>72</td>\n",
       "      <td>2098</td>\n",
       "      <td>2016-06-24</td>\n",
       "      <td></td>\n",
       "      <td>EGY</td>\n",
       "    </tr>\n",
       "    <tr>\n",
       "      <th>17</th>\n",
       "      <td>94975175</td>\n",
       "      <td>12116</td>\n",
       "      <td>des moines university</td>\n",
       "      <td>Des Moines University</td>\n",
       "      <td>grid.255049.f</td>\n",
       "      <td>http://www.dmu.edu/</td>\n",
       "      <td>http://en.wikipedia.org/wiki/Des_Moines_Univer...</td>\n",
       "      <td>554</td>\n",
       "      <td>8050</td>\n",
       "      <td>2016-06-24</td>\n",
       "      <td>Des Moines</td>\n",
       "      <td>USA</td>\n",
       "    </tr>\n",
       "    <tr>\n",
       "      <th>18</th>\n",
       "      <td>95198407</td>\n",
       "      <td>14679</td>\n",
       "      <td>helpage international</td>\n",
       "      <td>HelpAge International</td>\n",
       "      <td>NaN</td>\n",
       "      <td>http://www.helpage.org/</td>\n",
       "      <td>http://en.wikipedia.org/wiki/HelpAge_Internati...</td>\n",
       "      <td>31</td>\n",
       "      <td>545</td>\n",
       "      <td>2016-06-24</td>\n",
       "      <td>العبدلي</td>\n",
       "      <td>JOR</td>\n",
       "    </tr>\n",
       "    <tr>\n",
       "      <th>19</th>\n",
       "      <td>98720382</td>\n",
       "      <td>14643</td>\n",
       "      <td>american school of classical studies at athens</td>\n",
       "      <td>American School of Classical Studies at Athens</td>\n",
       "      <td>grid.461976.b</td>\n",
       "      <td>http://www.ascsa.edu.gr/</td>\n",
       "      <td>http://en.wikipedia.org/wiki/American_School_o...</td>\n",
       "      <td>62</td>\n",
       "      <td>418</td>\n",
       "      <td>2016-06-24</td>\n",
       "      <td>Bridgeport</td>\n",
       "      <td>USA</td>\n",
       "    </tr>\n",
       "    <tr>\n",
       "      <th>20</th>\n",
       "      <td>98899809</td>\n",
       "      <td>11548</td>\n",
       "      <td>national bank of belgium</td>\n",
       "      <td>National Bank of Belgium</td>\n",
       "      <td>grid.484482.6</td>\n",
       "      <td>http://www.nbb.be/</td>\n",
       "      <td>http://en.wikipedia.org/wiki/National_Bank_of_...</td>\n",
       "      <td>478</td>\n",
       "      <td>18551</td>\n",
       "      <td>2016-06-24</td>\n",
       "      <td>Antwerpen</td>\n",
       "      <td>BEL</td>\n",
       "    </tr>\n",
       "    <tr>\n",
       "      <th>21</th>\n",
       "      <td>118024222</td>\n",
       "      <td>14616</td>\n",
       "      <td>christ s hospital</td>\n",
       "      <td>Christ's Hospital</td>\n",
       "      <td>NaN</td>\n",
       "      <td>http://www.christs-hospital.org.uk/</td>\n",
       "      <td>http://en.wikipedia.org/wiki/Christ's_Hospital</td>\n",
       "      <td>22</td>\n",
       "      <td>499</td>\n",
       "      <td>2016-06-24</td>\n",
       "      <td>Horsham</td>\n",
       "      <td>GBR</td>\n",
       "    </tr>\n",
       "    <tr>\n",
       "      <th>22</th>\n",
       "      <td>121948355</td>\n",
       "      <td>14427</td>\n",
       "      <td>thanthai periyar government institute of techn...</td>\n",
       "      <td>Thanthai Periyar Government Institute of Techn...</td>\n",
       "      <td>NaN</td>\n",
       "      <td>http://www.tpgit.edu.in/</td>\n",
       "      <td>http://en.wikipedia.org/wiki/Thanthai_Periyar_...</td>\n",
       "      <td>94</td>\n",
       "      <td>261</td>\n",
       "      <td>2016-06-24</td>\n",
       "      <td>Vellore</td>\n",
       "      <td>IND</td>\n",
       "    </tr>\n",
       "    <tr>\n",
       "      <th>23</th>\n",
       "      <td>122655420</td>\n",
       "      <td>13707</td>\n",
       "      <td>penang medical college</td>\n",
       "      <td>Penang Medical College</td>\n",
       "      <td>grid.417196.c</td>\n",
       "      <td>http://www.pmc.edu.my/</td>\n",
       "      <td>http://en.wikipedia.org/wiki/Penang_Medical_Co...</td>\n",
       "      <td>122</td>\n",
       "      <td>1714</td>\n",
       "      <td>2016-06-24</td>\n",
       "      <td>Georgetown</td>\n",
       "      <td>MYS</td>\n",
       "    </tr>\n",
       "    <tr>\n",
       "      <th>24</th>\n",
       "      <td>126884977</td>\n",
       "      <td>9216</td>\n",
       "      <td>kansai medical university</td>\n",
       "      <td>Kansai Medical University</td>\n",
       "      <td>grid.410783.9</td>\n",
       "      <td>http://www.kmu.ac.jp/</td>\n",
       "      <td>http://en.wikipedia.org/wiki/Kansai_Medical_Un...</td>\n",
       "      <td>6964</td>\n",
       "      <td>131412</td>\n",
       "      <td>2016-06-24</td>\n",
       "      <td>Kansas City</td>\n",
       "      <td>USA</td>\n",
       "    </tr>\n",
       "    <tr>\n",
       "      <th>25</th>\n",
       "      <td>132349299</td>\n",
       "      <td>11995</td>\n",
       "      <td>idexx laboratories</td>\n",
       "      <td>Idexx Laboratories</td>\n",
       "      <td>grid.493313.f</td>\n",
       "      <td>http://www.idexx.com/</td>\n",
       "      <td>http://en.wikipedia.org/wiki/Idexx_Laboratories</td>\n",
       "      <td>649</td>\n",
       "      <td>8853</td>\n",
       "      <td>2016-06-24</td>\n",
       "      <td>Westbrook</td>\n",
       "      <td>USA</td>\n",
       "    </tr>\n",
       "    <tr>\n",
       "      <th>26</th>\n",
       "      <td>137612387</td>\n",
       "      <td>14459</td>\n",
       "      <td>korean register of shipping</td>\n",
       "      <td>Korean Register of Shipping</td>\n",
       "      <td>NaN</td>\n",
       "      <td>http://www.krs.co.kr/</td>\n",
       "      <td>http://en.wikipedia.org/wiki/Korean_Register_o...</td>\n",
       "      <td>70</td>\n",
       "      <td>481</td>\n",
       "      <td>2016-06-24</td>\n",
       "      <td>上環</td>\n",
       "      <td>HKG</td>\n",
       "    </tr>\n",
       "    <tr>\n",
       "      <th>27</th>\n",
       "      <td>151854742</td>\n",
       "      <td>12263</td>\n",
       "      <td>faculdade de medicina de marilia</td>\n",
       "      <td>Faculdade de Medicina de Marília</td>\n",
       "      <td>grid.419028.6</td>\n",
       "      <td>http://www.famema.br/</td>\n",
       "      <td>http://en.wikipedia.org/wiki/Faculdade_de_Medi...</td>\n",
       "      <td>709</td>\n",
       "      <td>3452</td>\n",
       "      <td>2016-06-24</td>\n",
       "      <td>Marília</td>\n",
       "      <td>BRA</td>\n",
       "    </tr>\n",
       "    <tr>\n",
       "      <th>28</th>\n",
       "      <td>154099455</td>\n",
       "      <td>7358</td>\n",
       "      <td>shandong university</td>\n",
       "      <td>Shandong University</td>\n",
       "      <td>grid.27255.37</td>\n",
       "      <td>http://www.sdu.edu.cn/</td>\n",
       "      <td>http://en.wikipedia.org/wiki/Shandong_University</td>\n",
       "      <td>76237</td>\n",
       "      <td>575100</td>\n",
       "      <td>2016-06-24</td>\n",
       "      <td>University</td>\n",
       "      <td>USA</td>\n",
       "    </tr>\n",
       "    <tr>\n",
       "      <th>29</th>\n",
       "      <td>158506100</td>\n",
       "      <td>17265</td>\n",
       "      <td>pennsylvania board of probation and parole</td>\n",
       "      <td>Pennsylvania Board of Probation and Parole</td>\n",
       "      <td>NaN</td>\n",
       "      <td>http://www.pbpp.state.pa.us/</td>\n",
       "      <td>http://en.wikipedia.org/wiki/Pennsylvania_Boar...</td>\n",
       "      <td>4</td>\n",
       "      <td>57</td>\n",
       "      <td>2016-06-24</td>\n",
       "      <td></td>\n",
       "      <td>USA</td>\n",
       "    </tr>\n",
       "    <tr>\n",
       "      <th>...</th>\n",
       "      <td>...</td>\n",
       "      <td>...</td>\n",
       "      <td>...</td>\n",
       "      <td>...</td>\n",
       "      <td>...</td>\n",
       "      <td>...</td>\n",
       "      <td>...</td>\n",
       "      <td>...</td>\n",
       "      <td>...</td>\n",
       "      <td>...</td>\n",
       "      <td>...</td>\n",
       "      <td>...</td>\n",
       "    </tr>\n",
       "    <tr>\n",
       "      <th>25378</th>\n",
       "      <td>2800084297</td>\n",
       "      <td>14824</td>\n",
       "      <td>indian institute of management shillong</td>\n",
       "      <td>Indian Institute of Management Shillong</td>\n",
       "      <td>grid.473677.6</td>\n",
       "      <td>NaN</td>\n",
       "      <td>https://en.wikipedia.org/wiki/Indian_Institute...</td>\n",
       "      <td>62</td>\n",
       "      <td>251</td>\n",
       "      <td>2018-05-17</td>\n",
       "      <td>Shillong</td>\n",
       "      <td>IND</td>\n",
       "    </tr>\n",
       "    <tr>\n",
       "      <th>25379</th>\n",
       "      <td>2800125567</td>\n",
       "      <td>14539</td>\n",
       "      <td>polish air force academy</td>\n",
       "      <td>Polish Air Force Academy</td>\n",
       "      <td>grid.460650.1</td>\n",
       "      <td>NaN</td>\n",
       "      <td>https://en.wikipedia.org/wiki/Polish_Air_Force...</td>\n",
       "      <td>85</td>\n",
       "      <td>71</td>\n",
       "      <td>2018-05-17</td>\n",
       "      <td>Usaf Academy</td>\n",
       "      <td>USA</td>\n",
       "    </tr>\n",
       "    <tr>\n",
       "      <th>25380</th>\n",
       "      <td>2800418531</td>\n",
       "      <td>14637</td>\n",
       "      <td>genesis healthcare</td>\n",
       "      <td>Genesis HealthCare</td>\n",
       "      <td>grid.477305.2</td>\n",
       "      <td>NaN</td>\n",
       "      <td>https://en.wikipedia.org/wiki/Genesis_HealthCare</td>\n",
       "      <td>48</td>\n",
       "      <td>565</td>\n",
       "      <td>2018-05-17</td>\n",
       "      <td>Zanesville</td>\n",
       "      <td>USA</td>\n",
       "    </tr>\n",
       "    <tr>\n",
       "      <th>25381</th>\n",
       "      <td>2800520468</td>\n",
       "      <td>17063</td>\n",
       "      <td>kerala school of mathematics</td>\n",
       "      <td>Kerala School of Mathematics</td>\n",
       "      <td>grid.464938.4</td>\n",
       "      <td>NaN</td>\n",
       "      <td>https://en.wikipedia.org/wiki/Kerala_School_of...</td>\n",
       "      <td>8</td>\n",
       "      <td>3</td>\n",
       "      <td>2018-05-17</td>\n",
       "      <td>Kozhikode</td>\n",
       "      <td>IND</td>\n",
       "    </tr>\n",
       "    <tr>\n",
       "      <th>25382</th>\n",
       "      <td>2800696124</td>\n",
       "      <td>15379</td>\n",
       "      <td>ohio valley medical center</td>\n",
       "      <td>Ohio Valley Medical Center</td>\n",
       "      <td>grid.464646.2</td>\n",
       "      <td>NaN</td>\n",
       "      <td>https://en.wikipedia.org/wiki/Ohio_Valley_Medi...</td>\n",
       "      <td>22</td>\n",
       "      <td>285</td>\n",
       "      <td>2018-05-17</td>\n",
       "      <td>Wheeling</td>\n",
       "      <td>USA</td>\n",
       "    </tr>\n",
       "    <tr>\n",
       "      <th>25383</th>\n",
       "      <td>2800893951</td>\n",
       "      <td>17195</td>\n",
       "      <td>korea society</td>\n",
       "      <td>Korea Society</td>\n",
       "      <td>grid.469352.f</td>\n",
       "      <td>NaN</td>\n",
       "      <td>https://en.wikipedia.org/wiki/Korea_Society</td>\n",
       "      <td>4</td>\n",
       "      <td>30</td>\n",
       "      <td>2018-05-17</td>\n",
       "      <td>Ahmedabad</td>\n",
       "      <td>IND</td>\n",
       "    </tr>\n",
       "    <tr>\n",
       "      <th>25384</th>\n",
       "      <td>2801051830</td>\n",
       "      <td>15678</td>\n",
       "      <td>york general hospital</td>\n",
       "      <td>York General Hospital</td>\n",
       "      <td>grid.417378.e</td>\n",
       "      <td>NaN</td>\n",
       "      <td>https://en.wikipedia.org/wiki/York_General_Hos...</td>\n",
       "      <td>16</td>\n",
       "      <td>156</td>\n",
       "      <td>2018-05-17</td>\n",
       "      <td>York</td>\n",
       "      <td>USA</td>\n",
       "    </tr>\n",
       "    <tr>\n",
       "      <th>25385</th>\n",
       "      <td>2801279066</td>\n",
       "      <td>15891</td>\n",
       "      <td>duke regional hospital</td>\n",
       "      <td>Duke Regional Hospital</td>\n",
       "      <td>grid.461399.0</td>\n",
       "      <td>NaN</td>\n",
       "      <td>https://en.wikipedia.org/wiki/Durham_Regional_...</td>\n",
       "      <td>21</td>\n",
       "      <td>69</td>\n",
       "      <td>2018-05-17</td>\n",
       "      <td>Durham</td>\n",
       "      <td>USA</td>\n",
       "    </tr>\n",
       "    <tr>\n",
       "      <th>25386</th>\n",
       "      <td>2801388914</td>\n",
       "      <td>8633</td>\n",
       "      <td>southampton general hospital</td>\n",
       "      <td>Southampton General Hospital</td>\n",
       "      <td>grid.123047.3</td>\n",
       "      <td>NaN</td>\n",
       "      <td>https://en.wikipedia.org/wiki/Southampton_Gene...</td>\n",
       "      <td>7877</td>\n",
       "      <td>289121</td>\n",
       "      <td>2018-05-17</td>\n",
       "      <td>Southampton</td>\n",
       "      <td>GBR</td>\n",
       "    </tr>\n",
       "    <tr>\n",
       "      <th>25387</th>\n",
       "      <td>2801409098</td>\n",
       "      <td>12575</td>\n",
       "      <td>hartebeesthoek radio astronomy observatory</td>\n",
       "      <td>Hartebeesthoek Radio Astronomy Observatory</td>\n",
       "      <td>grid.470026.7</td>\n",
       "      <td>NaN</td>\n",
       "      <td>https://en.wikipedia.org/wiki/Hartebeesthoek_R...</td>\n",
       "      <td>188</td>\n",
       "      <td>2959</td>\n",
       "      <td>2018-05-17</td>\n",
       "      <td>Johannesburg</td>\n",
       "      <td>ZAF</td>\n",
       "    </tr>\n",
       "    <tr>\n",
       "      <th>25388</th>\n",
       "      <td>2801447382</td>\n",
       "      <td>16965</td>\n",
       "      <td>bethany lutheran college</td>\n",
       "      <td>Bethany Lutheran College</td>\n",
       "      <td>grid.454614.6</td>\n",
       "      <td>NaN</td>\n",
       "      <td>https://en.wikipedia.org/wiki/Bethany_Lutheran...</td>\n",
       "      <td>5</td>\n",
       "      <td>48</td>\n",
       "      <td>2018-05-17</td>\n",
       "      <td>Mankato</td>\n",
       "      <td>USA</td>\n",
       "    </tr>\n",
       "    <tr>\n",
       "      <th>25389</th>\n",
       "      <td>2801701990</td>\n",
       "      <td>17055</td>\n",
       "      <td>california state coastal conservancy</td>\n",
       "      <td>California State Coastal Conservancy</td>\n",
       "      <td>grid.448457.e</td>\n",
       "      <td>NaN</td>\n",
       "      <td>https://en.wikipedia.org/wiki/California_Coast...</td>\n",
       "      <td>6</td>\n",
       "      <td>28</td>\n",
       "      <td>2018-05-17</td>\n",
       "      <td>Irvine</td>\n",
       "      <td>USA</td>\n",
       "    </tr>\n",
       "    <tr>\n",
       "      <th>25390</th>\n",
       "      <td>2801789028</td>\n",
       "      <td>18611</td>\n",
       "      <td>east riding college</td>\n",
       "      <td>East Riding College</td>\n",
       "      <td>grid.468830.1</td>\n",
       "      <td>NaN</td>\n",
       "      <td>https://en.wikipedia.org/wiki/East_Riding_College</td>\n",
       "      <td>1</td>\n",
       "      <td>6</td>\n",
       "      <td>2018-05-17</td>\n",
       "      <td>Hull</td>\n",
       "      <td>GBR</td>\n",
       "    </tr>\n",
       "    <tr>\n",
       "      <th>25391</th>\n",
       "      <td>2801932852</td>\n",
       "      <td>15368</td>\n",
       "      <td>bangour village hospital</td>\n",
       "      <td>Bangour Village Hospital</td>\n",
       "      <td>grid.414199.0</td>\n",
       "      <td>NaN</td>\n",
       "      <td>https://en.wikipedia.org/wiki/Bangour_Village_...</td>\n",
       "      <td>16</td>\n",
       "      <td>292</td>\n",
       "      <td>2018-05-17</td>\n",
       "      <td>Pucarani</td>\n",
       "      <td>BOL</td>\n",
       "    </tr>\n",
       "    <tr>\n",
       "      <th>25392</th>\n",
       "      <td>2801966156</td>\n",
       "      <td>11909</td>\n",
       "      <td>tokyo metropolitan matsuzawa hospital</td>\n",
       "      <td>Tokyo Metropolitan Matsuzawa Hospital</td>\n",
       "      <td>grid.417102.1</td>\n",
       "      <td>NaN</td>\n",
       "      <td>https://en.wikipedia.org/wiki/Tokyo_Metropolit...</td>\n",
       "      <td>392</td>\n",
       "      <td>9954</td>\n",
       "      <td>2018-05-17</td>\n",
       "      <td>Paine</td>\n",
       "      <td>CHL</td>\n",
       "    </tr>\n",
       "    <tr>\n",
       "      <th>25393</th>\n",
       "      <td>2802037415</td>\n",
       "      <td>18438</td>\n",
       "      <td>robeson community college</td>\n",
       "      <td>Robeson Community College</td>\n",
       "      <td>grid.427333.2</td>\n",
       "      <td>NaN</td>\n",
       "      <td>https://en.wikipedia.org/wiki/Robeson_Communit...</td>\n",
       "      <td>2</td>\n",
       "      <td>1</td>\n",
       "      <td>2018-05-17</td>\n",
       "      <td>Lumberton</td>\n",
       "      <td>USA</td>\n",
       "    </tr>\n",
       "    <tr>\n",
       "      <th>25394</th>\n",
       "      <td>2802040150</td>\n",
       "      <td>10004</td>\n",
       "      <td>glenfield hospital</td>\n",
       "      <td>Glenfield Hospital</td>\n",
       "      <td>grid.412925.9</td>\n",
       "      <td>NaN</td>\n",
       "      <td>https://en.wikipedia.org/wiki/Glenfield_Hospital</td>\n",
       "      <td>1398</td>\n",
       "      <td>43527</td>\n",
       "      <td>2018-05-17</td>\n",
       "      <td>Leicester</td>\n",
       "      <td>GBR</td>\n",
       "    </tr>\n",
       "    <tr>\n",
       "      <th>25395</th>\n",
       "      <td>2802097991</td>\n",
       "      <td>19151</td>\n",
       "      <td>killeen independent school district</td>\n",
       "      <td>Killeen Independent School District</td>\n",
       "      <td>grid.472531.6</td>\n",
       "      <td>NaN</td>\n",
       "      <td>https://en.wikipedia.org/wiki/Killeen_Independ...</td>\n",
       "      <td>1</td>\n",
       "      <td>0</td>\n",
       "      <td>2018-05-17</td>\n",
       "      <td>Killeen</td>\n",
       "      <td>USA</td>\n",
       "    </tr>\n",
       "    <tr>\n",
       "      <th>25396</th>\n",
       "      <td>2802109968</td>\n",
       "      <td>15682</td>\n",
       "      <td>audie l murphy memorial va hospital</td>\n",
       "      <td>Audie L. Murphy Memorial VA Hospital</td>\n",
       "      <td>grid.414059.d</td>\n",
       "      <td>NaN</td>\n",
       "      <td>https://en.wikipedia.org/wiki/Audie_L._Murphy_...</td>\n",
       "      <td>13</td>\n",
       "      <td>209</td>\n",
       "      <td>2018-05-17</td>\n",
       "      <td>Davenport</td>\n",
       "      <td>USA</td>\n",
       "    </tr>\n",
       "    <tr>\n",
       "      <th>25397</th>\n",
       "      <td>2802258419</td>\n",
       "      <td>16222</td>\n",
       "      <td>baptist bible college</td>\n",
       "      <td>Baptist Bible College</td>\n",
       "      <td>grid.462065.3</td>\n",
       "      <td>NaN</td>\n",
       "      <td>https://en.wikipedia.org/wiki/Baptist_Bible_Co...</td>\n",
       "      <td>7</td>\n",
       "      <td>122</td>\n",
       "      <td>2018-05-17</td>\n",
       "      <td>Prakasam</td>\n",
       "      <td>IND</td>\n",
       "    </tr>\n",
       "    <tr>\n",
       "      <th>25398</th>\n",
       "      <td>2802282791</td>\n",
       "      <td>13064</td>\n",
       "      <td>king fahad specialist hospital</td>\n",
       "      <td>King Fahad Specialist Hospital</td>\n",
       "      <td>grid.415280.a</td>\n",
       "      <td>NaN</td>\n",
       "      <td>https://en.wikipedia.org/wiki/King_Fahad_Speci...</td>\n",
       "      <td>357</td>\n",
       "      <td>1138</td>\n",
       "      <td>2018-05-17</td>\n",
       "      <td>بريدة</td>\n",
       "      <td>SAU</td>\n",
       "    </tr>\n",
       "    <tr>\n",
       "      <th>25399</th>\n",
       "      <td>2802342083</td>\n",
       "      <td>16262</td>\n",
       "      <td>firelands regional medical center</td>\n",
       "      <td>Firelands Regional Medical Center</td>\n",
       "      <td>grid.428563.e</td>\n",
       "      <td>NaN</td>\n",
       "      <td>https://en.wikipedia.org/wiki/Firelands_Region...</td>\n",
       "      <td>16</td>\n",
       "      <td>28</td>\n",
       "      <td>2018-05-17</td>\n",
       "      <td>Sandusky</td>\n",
       "      <td>USA</td>\n",
       "    </tr>\n",
       "    <tr>\n",
       "      <th>25400</th>\n",
       "      <td>2802553197</td>\n",
       "      <td>17969</td>\n",
       "      <td>kaskaskia college</td>\n",
       "      <td>Kaskaskia College</td>\n",
       "      <td>grid.431203.7</td>\n",
       "      <td>NaN</td>\n",
       "      <td>https://en.wikipedia.org/wiki/Kaskaskia_College</td>\n",
       "      <td>3</td>\n",
       "      <td>5</td>\n",
       "      <td>2018-05-17</td>\n",
       "      <td>Centralia</td>\n",
       "      <td>USA</td>\n",
       "    </tr>\n",
       "    <tr>\n",
       "      <th>25401</th>\n",
       "      <td>2802557736</td>\n",
       "      <td>18923</td>\n",
       "      <td>south seminole hospital</td>\n",
       "      <td>South Seminole Hospital</td>\n",
       "      <td>grid.461495.b</td>\n",
       "      <td>NaN</td>\n",
       "      <td>https://en.wikipedia.org/wiki/South_Seminole_H...</td>\n",
       "      <td>1</td>\n",
       "      <td>3</td>\n",
       "      <td>2018-05-17</td>\n",
       "      <td>Longwood</td>\n",
       "      <td>USA</td>\n",
       "    </tr>\n",
       "    <tr>\n",
       "      <th>25402</th>\n",
       "      <td>2802694066</td>\n",
       "      <td>17968</td>\n",
       "      <td>st johns river state college</td>\n",
       "      <td>St Johns River State College</td>\n",
       "      <td>grid.469260.f</td>\n",
       "      <td>NaN</td>\n",
       "      <td>https://en.wikipedia.org/wiki/St._Johns_River_...</td>\n",
       "      <td>3</td>\n",
       "      <td>4</td>\n",
       "      <td>2018-05-17</td>\n",
       "      <td>Palatka</td>\n",
       "      <td>USA</td>\n",
       "    </tr>\n",
       "    <tr>\n",
       "      <th>25403</th>\n",
       "      <td>2802835943</td>\n",
       "      <td>13053</td>\n",
       "      <td>riken quantitative biology center</td>\n",
       "      <td>RIKEN Quantitative Biology Center</td>\n",
       "      <td>grid.474694.c</td>\n",
       "      <td>NaN</td>\n",
       "      <td>https://en.wikipedia.org/wiki/RIKEN_Quantitati...</td>\n",
       "      <td>250</td>\n",
       "      <td>3007</td>\n",
       "      <td>2018-05-17</td>\n",
       "      <td>Center</td>\n",
       "      <td>USA</td>\n",
       "    </tr>\n",
       "    <tr>\n",
       "      <th>25404</th>\n",
       "      <td>2802841168</td>\n",
       "      <td>16443</td>\n",
       "      <td>hawaii community college</td>\n",
       "      <td>Hawaii Community College</td>\n",
       "      <td>grid.468968.d</td>\n",
       "      <td>NaN</td>\n",
       "      <td>https://en.wikipedia.org/wiki/Hawaii_Community...</td>\n",
       "      <td>12</td>\n",
       "      <td>46</td>\n",
       "      <td>2018-05-17</td>\n",
       "      <td>Hilo</td>\n",
       "      <td>USA</td>\n",
       "    </tr>\n",
       "    <tr>\n",
       "      <th>25405</th>\n",
       "      <td>2802927936</td>\n",
       "      <td>16811</td>\n",
       "      <td>midland university</td>\n",
       "      <td>Midland University</td>\n",
       "      <td>grid.433315.3</td>\n",
       "      <td>NaN</td>\n",
       "      <td>http://en.wikipedia.org/wiki/Midland_University</td>\n",
       "      <td>8</td>\n",
       "      <td>30</td>\n",
       "      <td>2018-05-17</td>\n",
       "      <td>Fremont</td>\n",
       "      <td>USA</td>\n",
       "    </tr>\n",
       "    <tr>\n",
       "      <th>25406</th>\n",
       "      <td>2803097592</td>\n",
       "      <td>14021</td>\n",
       "      <td>hospital of southern norway</td>\n",
       "      <td>Hospital of Southern Norway</td>\n",
       "      <td>grid.452467.6</td>\n",
       "      <td>NaN</td>\n",
       "      <td>https://en.wikipedia.org/wiki/Hospital_of_Sout...</td>\n",
       "      <td>101</td>\n",
       "      <td>909</td>\n",
       "      <td>2018-05-17</td>\n",
       "      <td>Galle</td>\n",
       "      <td>LKA</td>\n",
       "    </tr>\n",
       "    <tr>\n",
       "      <th>25407</th>\n",
       "      <td>2819308370</td>\n",
       "      <td>19043</td>\n",
       "      <td>sisseton wahpeton college</td>\n",
       "      <td>Sisseton Wahpeton College</td>\n",
       "      <td>grid.422278.9</td>\n",
       "      <td>NaN</td>\n",
       "      <td>https://en.wikipedia.org/wiki/Sisseton_Wahpeto...</td>\n",
       "      <td>1</td>\n",
       "      <td>2</td>\n",
       "      <td>2018-07-19</td>\n",
       "      <td>Fairbanks</td>\n",
       "      <td>USA</td>\n",
       "    </tr>\n",
       "  </tbody>\n",
       "</table>\n",
       "<p>25408 rows × 12 columns</p>\n",
       "</div>"
      ],
      "text/plain": [
       "               id   rank                                               name  \\\n",
       "0        20455151   9759                                        air liquide   \n",
       "1        24386293  13640           hellenic national meteorological service   \n",
       "2        32956416  13117                    catholic university of the west   \n",
       "3        35926432  12053                             mackay medical college   \n",
       "4        37448385  11782        chinese people s public security university   \n",
       "5        37712293  13170         madeira interactive technologies institute   \n",
       "6        42117203  16960                             queen s college london   \n",
       "7        50614327  11813                                amec foster wheeler   \n",
       "8        62987803  16029  ukrainian state university of finance and inte...   \n",
       "9        71576600  14540                       ural state mining university   \n",
       "10       76806421  12860                            selex sistemi integrati   \n",
       "11       78757542   7472                            university of newcastle   \n",
       "12       80046288  10235                                  walden university   \n",
       "13       81020251  14245                great lakes institute of management   \n",
       "14       83776822  11597      shandong institute of business and technology   \n",
       "15       84117484  17148                                     college boreal   \n",
       "16       90303723  13674           scientific council for government policy   \n",
       "17       94975175  12116                              des moines university   \n",
       "18       95198407  14679                              helpage international   \n",
       "19       98720382  14643     american school of classical studies at athens   \n",
       "20       98899809  11548                           national bank of belgium   \n",
       "21      118024222  14616                                  christ s hospital   \n",
       "22      121948355  14427  thanthai periyar government institute of techn...   \n",
       "23      122655420  13707                             penang medical college   \n",
       "24      126884977   9216                          kansai medical university   \n",
       "25      132349299  11995                                 idexx laboratories   \n",
       "26      137612387  14459                        korean register of shipping   \n",
       "27      151854742  12263                   faculdade de medicina de marilia   \n",
       "28      154099455   7358                                shandong university   \n",
       "29      158506100  17265         pennsylvania board of probation and parole   \n",
       "...           ...    ...                                                ...   \n",
       "25378  2800084297  14824            indian institute of management shillong   \n",
       "25379  2800125567  14539                           polish air force academy   \n",
       "25380  2800418531  14637                                 genesis healthcare   \n",
       "25381  2800520468  17063                       kerala school of mathematics   \n",
       "25382  2800696124  15379                         ohio valley medical center   \n",
       "25383  2800893951  17195                                      korea society   \n",
       "25384  2801051830  15678                              york general hospital   \n",
       "25385  2801279066  15891                             duke regional hospital   \n",
       "25386  2801388914   8633                       southampton general hospital   \n",
       "25387  2801409098  12575         hartebeesthoek radio astronomy observatory   \n",
       "25388  2801447382  16965                           bethany lutheran college   \n",
       "25389  2801701990  17055               california state coastal conservancy   \n",
       "25390  2801789028  18611                                east riding college   \n",
       "25391  2801932852  15368                           bangour village hospital   \n",
       "25392  2801966156  11909              tokyo metropolitan matsuzawa hospital   \n",
       "25393  2802037415  18438                          robeson community college   \n",
       "25394  2802040150  10004                                 glenfield hospital   \n",
       "25395  2802097991  19151                killeen independent school district   \n",
       "25396  2802109968  15682                audie l murphy memorial va hospital   \n",
       "25397  2802258419  16222                              baptist bible college   \n",
       "25398  2802282791  13064                     king fahad specialist hospital   \n",
       "25399  2802342083  16262                  firelands regional medical center   \n",
       "25400  2802553197  17969                                  kaskaskia college   \n",
       "25401  2802557736  18923                            south seminole hospital   \n",
       "25402  2802694066  17968                       st johns river state college   \n",
       "25403  2802835943  13053                  riken quantitative biology center   \n",
       "25404  2802841168  16443                           hawaii community college   \n",
       "25405  2802927936  16811                                 midland university   \n",
       "25406  2803097592  14021                        hospital of southern norway   \n",
       "25407  2819308370  19043                          sisseton wahpeton college   \n",
       "\n",
       "                                                   dname           grid  \\\n",
       "0                                            Air Liquide  grid.476009.c   \n",
       "1               Hellenic National Meteorological Service            NaN   \n",
       "2                        Catholic University of the West  grid.448708.7   \n",
       "3                                 Mackay Medical College  grid.452449.a   \n",
       "4            Chinese People's Public Security University            NaN   \n",
       "5             Madeira Interactive Technologies Institute            NaN   \n",
       "6                                Queen's College, London            NaN   \n",
       "7                                    Amec Foster Wheeler  grid.480159.1   \n",
       "8      Ukrainian State University of Finance and Inte...  grid.445773.6   \n",
       "9                           Ural State Mining University  grid.446243.3   \n",
       "10                               SELEX Sistemi Integrati    grid.9371.c   \n",
       "11                               University of Newcastle  grid.266842.c   \n",
       "12                                     Walden University  grid.412868.1   \n",
       "13                   Great Lakes Institute of Management  grid.464927.a   \n",
       "14         Shandong Institute of Business and Technology  grid.443652.2   \n",
       "15                                        Collège Boréal  grid.421295.9   \n",
       "16              Scientific Council for Government Policy  grid.465268.b   \n",
       "17                                 Des Moines University  grid.255049.f   \n",
       "18                                 HelpAge International            NaN   \n",
       "19        American School of Classical Studies at Athens  grid.461976.b   \n",
       "20                              National Bank of Belgium  grid.484482.6   \n",
       "21                                     Christ's Hospital            NaN   \n",
       "22     Thanthai Periyar Government Institute of Techn...            NaN   \n",
       "23                                Penang Medical College  grid.417196.c   \n",
       "24                             Kansai Medical University  grid.410783.9   \n",
       "25                                    Idexx Laboratories  grid.493313.f   \n",
       "26                           Korean Register of Shipping            NaN   \n",
       "27                      Faculdade de Medicina de Marília  grid.419028.6   \n",
       "28                                   Shandong University  grid.27255.37   \n",
       "29            Pennsylvania Board of Probation and Parole            NaN   \n",
       "...                                                  ...            ...   \n",
       "25378            Indian Institute of Management Shillong  grid.473677.6   \n",
       "25379                           Polish Air Force Academy  grid.460650.1   \n",
       "25380                                 Genesis HealthCare  grid.477305.2   \n",
       "25381                       Kerala School of Mathematics  grid.464938.4   \n",
       "25382                         Ohio Valley Medical Center  grid.464646.2   \n",
       "25383                                      Korea Society  grid.469352.f   \n",
       "25384                              York General Hospital  grid.417378.e   \n",
       "25385                             Duke Regional Hospital  grid.461399.0   \n",
       "25386                       Southampton General Hospital  grid.123047.3   \n",
       "25387         Hartebeesthoek Radio Astronomy Observatory  grid.470026.7   \n",
       "25388                           Bethany Lutheran College  grid.454614.6   \n",
       "25389               California State Coastal Conservancy  grid.448457.e   \n",
       "25390                                East Riding College  grid.468830.1   \n",
       "25391                           Bangour Village Hospital  grid.414199.0   \n",
       "25392              Tokyo Metropolitan Matsuzawa Hospital  grid.417102.1   \n",
       "25393                          Robeson Community College  grid.427333.2   \n",
       "25394                                 Glenfield Hospital  grid.412925.9   \n",
       "25395                Killeen Independent School District  grid.472531.6   \n",
       "25396               Audie L. Murphy Memorial VA Hospital  grid.414059.d   \n",
       "25397                              Baptist Bible College  grid.462065.3   \n",
       "25398                     King Fahad Specialist Hospital  grid.415280.a   \n",
       "25399                  Firelands Regional Medical Center  grid.428563.e   \n",
       "25400                                  Kaskaskia College  grid.431203.7   \n",
       "25401                            South Seminole Hospital  grid.461495.b   \n",
       "25402                       St Johns River State College  grid.469260.f   \n",
       "25403                  RIKEN Quantitative Biology Center  grid.474694.c   \n",
       "25404                           Hawaii Community College  grid.468968.d   \n",
       "25405                                 Midland University  grid.433315.3   \n",
       "25406                        Hospital of Southern Norway  grid.452467.6   \n",
       "25407                          Sisseton Wahpeton College  grid.422278.9   \n",
       "\n",
       "                                                    page  \\\n",
       "0      https://web.archive.org/web/20100205175402/htt...   \n",
       "1             http://www.hnms.gr/hnms/english/index_html   \n",
       "2                                     http://www.uco.fr/   \n",
       "3                                 http://www.mmc.edu.tw/   \n",
       "4                               http://www.ppsuc.edu.cn/   \n",
       "5                                  http://www.m-iti.org/   \n",
       "6                                 http://www.qcl.org.uk/   \n",
       "7                                 http://www.amecfw.com/   \n",
       "8                                  http://usufit.edu.ua/   \n",
       "9                                   http://www.ursmu.ru/   \n",
       "10                      http://www.leonardocompany.com//   \n",
       "11                          http://www.newcastle.edu.au/   \n",
       "12                               http://www.waldenu.edu/   \n",
       "13                                                   NaN   \n",
       "14                              http://www.sdibt.edu.cn/   \n",
       "15                          http://www.collegeboreal.ca/   \n",
       "16                                    http://www.wrr.nl/   \n",
       "17                                   http://www.dmu.edu/   \n",
       "18                               http://www.helpage.org/   \n",
       "19                              http://www.ascsa.edu.gr/   \n",
       "20                                    http://www.nbb.be/   \n",
       "21                   http://www.christs-hospital.org.uk/   \n",
       "22                              http://www.tpgit.edu.in/   \n",
       "23                                http://www.pmc.edu.my/   \n",
       "24                                 http://www.kmu.ac.jp/   \n",
       "25                                 http://www.idexx.com/   \n",
       "26                                 http://www.krs.co.kr/   \n",
       "27                                 http://www.famema.br/   \n",
       "28                                http://www.sdu.edu.cn/   \n",
       "29                          http://www.pbpp.state.pa.us/   \n",
       "...                                                  ...   \n",
       "25378                                                NaN   \n",
       "25379                                                NaN   \n",
       "25380                                                NaN   \n",
       "25381                                                NaN   \n",
       "25382                                                NaN   \n",
       "25383                                                NaN   \n",
       "25384                                                NaN   \n",
       "25385                                                NaN   \n",
       "25386                                                NaN   \n",
       "25387                                                NaN   \n",
       "25388                                                NaN   \n",
       "25389                                                NaN   \n",
       "25390                                                NaN   \n",
       "25391                                                NaN   \n",
       "25392                                                NaN   \n",
       "25393                                                NaN   \n",
       "25394                                                NaN   \n",
       "25395                                                NaN   \n",
       "25396                                                NaN   \n",
       "25397                                                NaN   \n",
       "25398                                                NaN   \n",
       "25399                                                NaN   \n",
       "25400                                                NaN   \n",
       "25401                                                NaN   \n",
       "25402                                                NaN   \n",
       "25403                                                NaN   \n",
       "25404                                                NaN   \n",
       "25405                                                NaN   \n",
       "25406                                                NaN   \n",
       "25407                                                NaN   \n",
       "\n",
       "                                                    wiki  papers  citations  \\\n",
       "0               http://en.wikipedia.org/wiki/Air_Liquide    6314      44828   \n",
       "1      http://en.wikipedia.org/wiki/Hellenic_National...      81       1531   \n",
       "2      http://en.wikipedia.org/wiki/Catholic_Universi...     236       2565   \n",
       "3      http://en.wikipedia.org/wiki/Mackay_Medical_Co...     815       6080   \n",
       "4      http://en.wikipedia.org/wiki/People's_Public_S...    1502       1195   \n",
       "5      http://en.wikipedia.org/wiki/Madeira_Interacti...     296       1409   \n",
       "6      http://en.wikipedia.org/wiki/Queen's_College,_...       8         10   \n",
       "7       http://en.wikipedia.org/wiki/Amec_Foster_Wheeler     951       7423   \n",
       "8      http://en.wikipedia.org/wiki/Ukrainian_State_U...      21         18   \n",
       "9      http://en.wikipedia.org/wiki/Ural_State_Mining...      89         78   \n",
       "10     http://en.wikipedia.org/wiki/SELEX_Sistemi_Int...     353       1799   \n",
       "11     http://en.wikipedia.org/wiki/University_of_New...   41529     872022   \n",
       "12        http://en.wikipedia.org/wiki/Walden_University    3392      14419   \n",
       "13                                                   NaN     103        713   \n",
       "14     http://en.wikipedia.org/wiki/Shandong_Institut...    1728       2280   \n",
       "15           http://en.wikipedia.org/wiki/Collège_Boréal       7         11   \n",
       "16     http://en.wikipedia.org/wiki/Scientific_Counci...      72       2098   \n",
       "17     http://en.wikipedia.org/wiki/Des_Moines_Univer...     554       8050   \n",
       "18     http://en.wikipedia.org/wiki/HelpAge_Internati...      31        545   \n",
       "19     http://en.wikipedia.org/wiki/American_School_o...      62        418   \n",
       "20     http://en.wikipedia.org/wiki/National_Bank_of_...     478      18551   \n",
       "21        http://en.wikipedia.org/wiki/Christ's_Hospital      22        499   \n",
       "22     http://en.wikipedia.org/wiki/Thanthai_Periyar_...      94        261   \n",
       "23     http://en.wikipedia.org/wiki/Penang_Medical_Co...     122       1714   \n",
       "24     http://en.wikipedia.org/wiki/Kansai_Medical_Un...    6964     131412   \n",
       "25       http://en.wikipedia.org/wiki/Idexx_Laboratories     649       8853   \n",
       "26     http://en.wikipedia.org/wiki/Korean_Register_o...      70        481   \n",
       "27     http://en.wikipedia.org/wiki/Faculdade_de_Medi...     709       3452   \n",
       "28      http://en.wikipedia.org/wiki/Shandong_University   76237     575100   \n",
       "29     http://en.wikipedia.org/wiki/Pennsylvania_Boar...       4         57   \n",
       "...                                                  ...     ...        ...   \n",
       "25378  https://en.wikipedia.org/wiki/Indian_Institute...      62        251   \n",
       "25379  https://en.wikipedia.org/wiki/Polish_Air_Force...      85         71   \n",
       "25380   https://en.wikipedia.org/wiki/Genesis_HealthCare      48        565   \n",
       "25381  https://en.wikipedia.org/wiki/Kerala_School_of...       8          3   \n",
       "25382  https://en.wikipedia.org/wiki/Ohio_Valley_Medi...      22        285   \n",
       "25383        https://en.wikipedia.org/wiki/Korea_Society       4         30   \n",
       "25384  https://en.wikipedia.org/wiki/York_General_Hos...      16        156   \n",
       "25385  https://en.wikipedia.org/wiki/Durham_Regional_...      21         69   \n",
       "25386  https://en.wikipedia.org/wiki/Southampton_Gene...    7877     289121   \n",
       "25387  https://en.wikipedia.org/wiki/Hartebeesthoek_R...     188       2959   \n",
       "25388  https://en.wikipedia.org/wiki/Bethany_Lutheran...       5         48   \n",
       "25389  https://en.wikipedia.org/wiki/California_Coast...       6         28   \n",
       "25390  https://en.wikipedia.org/wiki/East_Riding_College       1          6   \n",
       "25391  https://en.wikipedia.org/wiki/Bangour_Village_...      16        292   \n",
       "25392  https://en.wikipedia.org/wiki/Tokyo_Metropolit...     392       9954   \n",
       "25393  https://en.wikipedia.org/wiki/Robeson_Communit...       2          1   \n",
       "25394   https://en.wikipedia.org/wiki/Glenfield_Hospital    1398      43527   \n",
       "25395  https://en.wikipedia.org/wiki/Killeen_Independ...       1          0   \n",
       "25396  https://en.wikipedia.org/wiki/Audie_L._Murphy_...      13        209   \n",
       "25397  https://en.wikipedia.org/wiki/Baptist_Bible_Co...       7        122   \n",
       "25398  https://en.wikipedia.org/wiki/King_Fahad_Speci...     357       1138   \n",
       "25399  https://en.wikipedia.org/wiki/Firelands_Region...      16         28   \n",
       "25400    https://en.wikipedia.org/wiki/Kaskaskia_College       3          5   \n",
       "25401  https://en.wikipedia.org/wiki/South_Seminole_H...       1          3   \n",
       "25402  https://en.wikipedia.org/wiki/St._Johns_River_...       3          4   \n",
       "25403  https://en.wikipedia.org/wiki/RIKEN_Quantitati...     250       3007   \n",
       "25404  https://en.wikipedia.org/wiki/Hawaii_Community...      12         46   \n",
       "25405    http://en.wikipedia.org/wiki/Midland_University       8         30   \n",
       "25406  https://en.wikipedia.org/wiki/Hospital_of_Sout...     101        909   \n",
       "25407  https://en.wikipedia.org/wiki/Sisseton_Wahpeto...       1          2   \n",
       "\n",
       "       created_at                country countryCode  \n",
       "0      2016-06-24         Grande Prairie         CAN  \n",
       "1      2016-06-24             South East         BWA  \n",
       "2      2016-06-24             Fort Worth         USA  \n",
       "3      2016-06-24                    三芝區         TWN  \n",
       "4      2016-06-24             University         USA  \n",
       "5      2016-06-24           Johannesburg         ZAF  \n",
       "6      2016-06-24                 London         GBR  \n",
       "7      2016-06-24                Chennai         IND  \n",
       "8      2016-06-24                 Xalapa         MEX  \n",
       "9      2016-06-24             University         USA  \n",
       "10     2016-06-24              București         ROU  \n",
       "11     2016-06-24                 Sydney         AUS  \n",
       "12     2016-06-24            Minneapolis         USA  \n",
       "13     2016-06-24   Manesar Sub-District         IND  \n",
       "14     2016-06-24               Rajshahi         BGD  \n",
       "15     2016-06-24        Greater Sudbury         CAN  \n",
       "16     2016-06-24                                EGY  \n",
       "17     2016-06-24             Des Moines         USA  \n",
       "18     2016-06-24                العبدلي         JOR  \n",
       "19     2016-06-24             Bridgeport         USA  \n",
       "20     2016-06-24              Antwerpen         BEL  \n",
       "21     2016-06-24                Horsham         GBR  \n",
       "22     2016-06-24                Vellore         IND  \n",
       "23     2016-06-24             Georgetown         MYS  \n",
       "24     2016-06-24            Kansas City         USA  \n",
       "25     2016-06-24              Westbrook         USA  \n",
       "26     2016-06-24                     上環         HKG  \n",
       "27     2016-06-24                Marília         BRA  \n",
       "28     2016-06-24             University         USA  \n",
       "29     2016-06-24                                USA  \n",
       "...           ...                    ...         ...  \n",
       "25378  2018-05-17               Shillong         IND  \n",
       "25379  2018-05-17           Usaf Academy         USA  \n",
       "25380  2018-05-17             Zanesville         USA  \n",
       "25381  2018-05-17              Kozhikode         IND  \n",
       "25382  2018-05-17               Wheeling         USA  \n",
       "25383  2018-05-17              Ahmedabad         IND  \n",
       "25384  2018-05-17                   York         USA  \n",
       "25385  2018-05-17                 Durham         USA  \n",
       "25386  2018-05-17            Southampton         GBR  \n",
       "25387  2018-05-17           Johannesburg         ZAF  \n",
       "25388  2018-05-17                Mankato         USA  \n",
       "25389  2018-05-17                 Irvine         USA  \n",
       "25390  2018-05-17                   Hull         GBR  \n",
       "25391  2018-05-17               Pucarani         BOL  \n",
       "25392  2018-05-17                  Paine         CHL  \n",
       "25393  2018-05-17              Lumberton         USA  \n",
       "25394  2018-05-17              Leicester         GBR  \n",
       "25395  2018-05-17                Killeen         USA  \n",
       "25396  2018-05-17              Davenport         USA  \n",
       "25397  2018-05-17               Prakasam         IND  \n",
       "25398  2018-05-17                  بريدة         SAU  \n",
       "25399  2018-05-17               Sandusky         USA  \n",
       "25400  2018-05-17              Centralia         USA  \n",
       "25401  2018-05-17               Longwood         USA  \n",
       "25402  2018-05-17                Palatka         USA  \n",
       "25403  2018-05-17                 Center         USA  \n",
       "25404  2018-05-17                   Hilo         USA  \n",
       "25405  2018-05-17                Fremont         USA  \n",
       "25406  2018-05-17                  Galle         LKA  \n",
       "25407  2018-07-19              Fairbanks         USA  \n",
       "\n",
       "[25408 rows x 12 columns]"
      ]
     },
     "execution_count": 121,
     "metadata": {},
     "output_type": "execute_result"
    }
   ],
   "source": [
    "affs_country"
   ]
  },
  {
   "cell_type": "code",
   "execution_count": 123,
   "metadata": {},
   "outputs": [],
   "source": [
    "affs_country.to_csv('/home/bob/gtd/Iconic/data/Affiliations_FC.txt', sep = '\\t', index = False)"
   ]
  },
  {
   "cell_type": "code",
   "execution_count": 4,
   "metadata": {},
   "outputs": [],
   "source": [
    "spark = SparkSession\\\n",
    "    .builder\\\n",
    "    .appName(\"IconicSparkPy\")\\\n",
    "    .getOrCreate()\n",
    "\n",
    "# Enable Arrow-based columnar data transfers\n",
    "spark.conf.set(\"spark.sql.execution.arrow.enabled\", \"true\")"
   ]
  },
  {
   "cell_type": "code",
   "execution_count": 73,
   "metadata": {},
   "outputs": [],
   "source": [
    "def read_dataframe(path):\n",
    "    return spark.read.csv(DATA_DIR + path, sep = '\\t', schema = affs_schema, mode = 'PERMISSIVE')\n"
   ]
  },
  {
   "cell_type": "code",
   "execution_count": 74,
   "metadata": {},
   "outputs": [],
   "source": [
    "affs_schema = \"id STRING, rank STRING, name STRING, dname STRING, grid STRING,\\\n",
    "    page STRING, wiki  STRING, papers  STRING, citations  STRING,\\\n",
    "\tlat STRING, long STRING, createdAt STRING\""
   ]
  },
  {
   "cell_type": "code",
   "execution_count": 75,
   "metadata": {},
   "outputs": [
    {
     "data": {
      "text/plain": [
       "DataFrame[id: string, rank: string, name: string, dname: string, grid: string, page: string, wiki: string, papers: string, citations: string, lat: string, long: string, createdAt: string]"
      ]
     },
     "execution_count": 75,
     "metadata": {},
     "output_type": "execute_result"
    }
   ],
   "source": [
    "affs = read_dataframe('Affiliations.txt')\n",
    "affs"
   ]
  },
  {
   "cell_type": "code",
   "execution_count": 64,
   "metadata": {},
   "outputs": [],
   "source": []
  },
  {
   "cell_type": "code",
   "execution_count": 70,
   "metadata": {},
   "outputs": [
    {
     "data": {
      "text/plain": [
       "'107371206\\t12638\\tsao paulo federal institute of education science and technology\\tSão Paulo Federal Institute of Education'"
      ]
     },
     "execution_count": 70,
     "metadata": {},
     "output_type": "execute_result"
    },
    {
     "data": {
      "text/plain": [
       "['107371206',\n",
       " '12638',\n",
       " 'sao paulo federal institute of education science and technology',\n",
       " 'São Paulo Federal Institute of Education']"
      ]
     },
     "execution_count": 70,
     "metadata": {},
     "output_type": "execute_result"
    },
    {
     "data": {
      "text/plain": [
       "4"
      ]
     },
     "execution_count": 70,
     "metadata": {},
     "output_type": "execute_result"
    }
   ],
   "source": [
    "s = affs.take(10)[3][0]\n",
    "s\n",
    "s.split('\\t')\n",
    "len(s.split('\\t'))"
   ]
  },
  {
   "cell_type": "code",
   "execution_count": null,
   "metadata": {},
   "outputs": [],
   "source": [
    "papers = read_dataframe('Papers.txt')\n",
    "authors = read_dataframe('Authors.txt')\n",
    "fos = read_dataframe('FieldsOfStudy.txt')\n",
    "affs = read_dataframe('Affiliations.txt')\n",
    "paa = read_dataframe('PaperAuthorAffiliations.txt')\n",
    "pf = read_dataframe('PaperFieldsOfStudy.txt')\n",
    "pr = read_dataframe('PaperReferences.txt')\n",
    "fc = read_dataframe('FieldOfStudyChildren.txt')"
   ]
  },
  {
   "cell_type": "markdown",
   "metadata": {},
   "source": [
    "# Preliminaries\n",
    "## Get root field of study "
   ]
  },
  {
   "cell_type": "code",
   "execution_count": 6,
   "metadata": {},
   "outputs": [],
   "source": [
    "import pyspark.sql.functions as F\n",
    "from pyspark.sql.functions import col"
   ]
  },
  {
   "cell_type": "code",
   "execution_count": 7,
   "metadata": {},
   "outputs": [],
   "source": [
    "def computeRootFos( fieldId):\n",
    "    filtered = fc.filter(col(\"child\") == fieldId)\n",
    "#     print(filtered.take(1))\n",
    "    if len(filtered.take(1)) == 0:\n",
    "        return fieldId\n",
    "    parent = filtered.take(1)[0][0]\n",
    "    if parent == fieldId:\n",
    "#         print(parent)\n",
    "        return parent\n",
    "    else:\n",
    "#         print('rec')\n",
    "        return computeRootFos( parent)"
   ]
  },
  {
   "cell_type": "code",
   "execution_count": 8,
   "metadata": {},
   "outputs": [
    {
     "data": {
      "text/plain": [
       "12843"
      ]
     },
     "execution_count": 8,
     "metadata": {},
     "output_type": "execute_result"
    }
   ],
   "source": [
    "computeRootFos(8105449)"
   ]
  },
  {
   "cell_type": "markdown",
   "metadata": {},
   "source": [
    "add the root field of study to each paper"
   ]
  },
  {
   "cell_type": "code",
   "execution_count": 9,
   "metadata": {},
   "outputs": [
    {
     "data": {
      "text/plain": [
       "DataFrame[fos: bigint, paper: bigint, similarity: double]"
      ]
     },
     "execution_count": 9,
     "metadata": {},
     "output_type": "execute_result"
    }
   ],
   "source": [
    "from pyspark.sql import Row\n",
    "pf.rdd.map(lambda row : Row(paper = row[0], fos = row[1], similarity = row[2])).toDF()\n",
    "fields = pf.select(\"fos\").distinct().collect()\n",
    "fields = map(lambda field : {'fos' : field[0], 'root' :computeRootFos(field[0])}, fields)\n",
    "fields = list(fields)"
   ]
  },
  {
   "cell_type": "code",
   "execution_count": 10,
   "metadata": {},
   "outputs": [],
   "source": [
    "fr = pd.DataFrame(fields)"
   ]
  },
  {
   "cell_type": "markdown",
   "metadata": {},
   "source": [
    "define helper function to use the root dataframe for getting the root of a field id"
   ]
  },
  {
   "cell_type": "code",
   "execution_count": 12,
   "metadata": {},
   "outputs": [],
   "source": [
    "from pyspark.sql.functions import udf\n",
    "def getRootFos(fos):\n",
    "    return fr[fr[\"fos\"] == fos][\"root\"][0]\n",
    "\n",
    "rootFos_udf = udf(lambda fos : getRootFos(fos))"
   ]
  },
  {
   "cell_type": "code",
   "execution_count": 13,
   "metadata": {},
   "outputs": [
    {
     "data": {
      "text/plain": [
       "Column<b'<lambda>(124952713)'>"
      ]
     },
     "execution_count": 13,
     "metadata": {},
     "output_type": "execute_result"
    },
    {
     "data": {
      "text/plain": [
       "124952713"
      ]
     },
     "execution_count": 13,
     "metadata": {},
     "output_type": "execute_result"
    }
   ],
   "source": [
    "from pyspark.sql.functions import lit\n",
    "rootFos_udf(lit(124952713))\n",
    "getRootFos(124952713)"
   ]
  },
  {
   "cell_type": "markdown",
   "metadata": {},
   "source": [
    "## Aggregated new data"
   ]
  },
  {
   "cell_type": "code",
   "execution_count": 14,
   "metadata": {},
   "outputs": [
    {
     "ename": "ValueError",
     "evalue": "RDD is empty",
     "output_type": "error",
     "traceback": [
      "\u001b[0;31m---------------------------------------------------------------------------\u001b[0m",
      "\u001b[0;31mValueError\u001b[0m                                Traceback (most recent call last)",
      "\u001b[0;32m<ipython-input-14-0e073f3c486c>\u001b[0m in \u001b[0;36m<module>\u001b[0;34m\u001b[0m\n\u001b[1;32m      2\u001b[0m \u001b[0mauthorDetails\u001b[0m \u001b[0;34m=\u001b[0m \u001b[0mpaa\u001b[0m\u001b[0;34m.\u001b[0m\u001b[0mjoin\u001b[0m\u001b[0;34m(\u001b[0m\u001b[0mpf\u001b[0m\u001b[0;34m,\u001b[0m \u001b[0;34m\"paper\"\u001b[0m\u001b[0;34m)\u001b[0m\u001b[0;31m\\\u001b[0m\u001b[0;34m\u001b[0m\u001b[0;34m\u001b[0m\u001b[0m\n\u001b[1;32m      3\u001b[0m     \u001b[0;34m.\u001b[0m\u001b[0mselect\u001b[0m\u001b[0;34m(\u001b[0m\u001b[0;34m\"author\"\u001b[0m\u001b[0;34m,\u001b[0m \u001b[0;34m\"paper\"\u001b[0m\u001b[0;34m,\u001b[0m\u001b[0;34m\"affiliation\"\u001b[0m\u001b[0;34m,\u001b[0m \u001b[0;34m\"fos\"\u001b[0m\u001b[0;34m)\u001b[0m\u001b[0;31m\\\u001b[0m\u001b[0;34m\u001b[0m\u001b[0;34m\u001b[0m\u001b[0m\n\u001b[0;32m----> 4\u001b[0;31m     \u001b[0;34m.\u001b[0m\u001b[0mrdd\u001b[0m\u001b[0;34m.\u001b[0m\u001b[0mmap\u001b[0m\u001b[0;34m(\u001b[0m\u001b[0;32mlambda\u001b[0m \u001b[0mrow\u001b[0m \u001b[0;34m:\u001b[0m \u001b[0mRow\u001b[0m\u001b[0;34m(\u001b[0m\u001b[0mauthor\u001b[0m \u001b[0;34m=\u001b[0m \u001b[0mrow\u001b[0m\u001b[0;34m[\u001b[0m\u001b[0;36m0\u001b[0m\u001b[0;34m]\u001b[0m\u001b[0;34m,\u001b[0m \u001b[0mpaper\u001b[0m \u001b[0;34m=\u001b[0m \u001b[0mrow\u001b[0m\u001b[0;34m[\u001b[0m\u001b[0;36m1\u001b[0m\u001b[0;34m]\u001b[0m\u001b[0;34m,\u001b[0m \u001b[0maffiliation\u001b[0m \u001b[0;34m=\u001b[0m \u001b[0mrow\u001b[0m\u001b[0;34m[\u001b[0m\u001b[0;36m2\u001b[0m\u001b[0;34m]\u001b[0m\u001b[0;34m,\u001b[0m \u001b[0mfos\u001b[0m \u001b[0;34m=\u001b[0m \u001b[0mgetRootFos\u001b[0m\u001b[0;34m(\u001b[0m\u001b[0mrow\u001b[0m\u001b[0;34m[\u001b[0m\u001b[0;36m3\u001b[0m\u001b[0;34m]\u001b[0m\u001b[0;34m)\u001b[0m\u001b[0;34m)\u001b[0m\u001b[0;34m)\u001b[0m\u001b[0;34m.\u001b[0m\u001b[0mtoDF\u001b[0m\u001b[0;34m(\u001b[0m\u001b[0;34m)\u001b[0m\u001b[0;31m\\\u001b[0m\u001b[0;34m\u001b[0m\u001b[0;34m\u001b[0m\u001b[0m\n\u001b[0m\u001b[1;32m      5\u001b[0m     \u001b[0;34m.\u001b[0m\u001b[0mgroupBy\u001b[0m\u001b[0;34m(\u001b[0m\u001b[0;34m\"author\"\u001b[0m\u001b[0;34m,\u001b[0m \u001b[0;34m\"fos\"\u001b[0m\u001b[0;34m,\u001b[0m \u001b[0;34m\"affiliation\"\u001b[0m\u001b[0;34m)\u001b[0m\u001b[0;31m\\\u001b[0m\u001b[0;34m\u001b[0m\u001b[0;34m\u001b[0m\u001b[0m\n\u001b[1;32m      6\u001b[0m     \u001b[0;34m.\u001b[0m\u001b[0magg\u001b[0m\u001b[0;34m(\u001b[0m\u001b[0mF\u001b[0m\u001b[0;34m.\u001b[0m\u001b[0mcountDistinct\u001b[0m\u001b[0;34m(\u001b[0m\u001b[0;34m\"paper\"\u001b[0m\u001b[0;34m)\u001b[0m\u001b[0;34m)\u001b[0m\u001b[0;31m\\\u001b[0m\u001b[0;34m\u001b[0m\u001b[0;34m\u001b[0m\u001b[0m\n",
      "\u001b[0;32m~/programs/spark/python/pyspark/sql/session.py\u001b[0m in \u001b[0;36mtoDF\u001b[0;34m(self, schema, sampleRatio)\u001b[0m\n\u001b[1;32m     56\u001b[0m         \u001b[0;34m[\u001b[0m\u001b[0mRow\u001b[0m\u001b[0;34m(\u001b[0m\u001b[0mname\u001b[0m\u001b[0;34m=\u001b[0m\u001b[0;34mu'Alice'\u001b[0m\u001b[0;34m,\u001b[0m \u001b[0mage\u001b[0m\u001b[0;34m=\u001b[0m\u001b[0;36m1\u001b[0m\u001b[0;34m)\u001b[0m\u001b[0;34m]\u001b[0m\u001b[0;34m\u001b[0m\u001b[0;34m\u001b[0m\u001b[0m\n\u001b[1;32m     57\u001b[0m         \"\"\"\n\u001b[0;32m---> 58\u001b[0;31m         \u001b[0;32mreturn\u001b[0m \u001b[0msparkSession\u001b[0m\u001b[0;34m.\u001b[0m\u001b[0mcreateDataFrame\u001b[0m\u001b[0;34m(\u001b[0m\u001b[0mself\u001b[0m\u001b[0;34m,\u001b[0m \u001b[0mschema\u001b[0m\u001b[0;34m,\u001b[0m \u001b[0msampleRatio\u001b[0m\u001b[0;34m)\u001b[0m\u001b[0;34m\u001b[0m\u001b[0;34m\u001b[0m\u001b[0m\n\u001b[0m\u001b[1;32m     59\u001b[0m \u001b[0;34m\u001b[0m\u001b[0m\n\u001b[1;32m     60\u001b[0m     \u001b[0mRDD\u001b[0m\u001b[0;34m.\u001b[0m\u001b[0mtoDF\u001b[0m \u001b[0;34m=\u001b[0m \u001b[0mtoDF\u001b[0m\u001b[0;34m\u001b[0m\u001b[0;34m\u001b[0m\u001b[0m\n",
      "\u001b[0;32m~/programs/spark/python/pyspark/sql/session.py\u001b[0m in \u001b[0;36mcreateDataFrame\u001b[0;34m(self, data, schema, samplingRatio, verifySchema)\u001b[0m\n\u001b[1;32m    744\u001b[0m \u001b[0;34m\u001b[0m\u001b[0m\n\u001b[1;32m    745\u001b[0m         \u001b[0;32mif\u001b[0m \u001b[0misinstance\u001b[0m\u001b[0;34m(\u001b[0m\u001b[0mdata\u001b[0m\u001b[0;34m,\u001b[0m \u001b[0mRDD\u001b[0m\u001b[0;34m)\u001b[0m\u001b[0;34m:\u001b[0m\u001b[0;34m\u001b[0m\u001b[0;34m\u001b[0m\u001b[0m\n\u001b[0;32m--> 746\u001b[0;31m             \u001b[0mrdd\u001b[0m\u001b[0;34m,\u001b[0m \u001b[0mschema\u001b[0m \u001b[0;34m=\u001b[0m \u001b[0mself\u001b[0m\u001b[0;34m.\u001b[0m\u001b[0m_createFromRDD\u001b[0m\u001b[0;34m(\u001b[0m\u001b[0mdata\u001b[0m\u001b[0;34m.\u001b[0m\u001b[0mmap\u001b[0m\u001b[0;34m(\u001b[0m\u001b[0mprepare\u001b[0m\u001b[0;34m)\u001b[0m\u001b[0;34m,\u001b[0m \u001b[0mschema\u001b[0m\u001b[0;34m,\u001b[0m \u001b[0msamplingRatio\u001b[0m\u001b[0;34m)\u001b[0m\u001b[0;34m\u001b[0m\u001b[0;34m\u001b[0m\u001b[0m\n\u001b[0m\u001b[1;32m    747\u001b[0m         \u001b[0;32melse\u001b[0m\u001b[0;34m:\u001b[0m\u001b[0;34m\u001b[0m\u001b[0;34m\u001b[0m\u001b[0m\n\u001b[1;32m    748\u001b[0m             \u001b[0mrdd\u001b[0m\u001b[0;34m,\u001b[0m \u001b[0mschema\u001b[0m \u001b[0;34m=\u001b[0m \u001b[0mself\u001b[0m\u001b[0;34m.\u001b[0m\u001b[0m_createFromLocal\u001b[0m\u001b[0;34m(\u001b[0m\u001b[0mmap\u001b[0m\u001b[0;34m(\u001b[0m\u001b[0mprepare\u001b[0m\u001b[0;34m,\u001b[0m \u001b[0mdata\u001b[0m\u001b[0;34m)\u001b[0m\u001b[0;34m,\u001b[0m \u001b[0mschema\u001b[0m\u001b[0;34m)\u001b[0m\u001b[0;34m\u001b[0m\u001b[0;34m\u001b[0m\u001b[0m\n",
      "\u001b[0;32m~/programs/spark/python/pyspark/sql/session.py\u001b[0m in \u001b[0;36m_createFromRDD\u001b[0;34m(self, rdd, schema, samplingRatio)\u001b[0m\n\u001b[1;32m    388\u001b[0m         \"\"\"\n\u001b[1;32m    389\u001b[0m         \u001b[0;32mif\u001b[0m \u001b[0mschema\u001b[0m \u001b[0;32mis\u001b[0m \u001b[0;32mNone\u001b[0m \u001b[0;32mor\u001b[0m \u001b[0misinstance\u001b[0m\u001b[0;34m(\u001b[0m\u001b[0mschema\u001b[0m\u001b[0;34m,\u001b[0m \u001b[0;34m(\u001b[0m\u001b[0mlist\u001b[0m\u001b[0;34m,\u001b[0m \u001b[0mtuple\u001b[0m\u001b[0;34m)\u001b[0m\u001b[0;34m)\u001b[0m\u001b[0;34m:\u001b[0m\u001b[0;34m\u001b[0m\u001b[0;34m\u001b[0m\u001b[0m\n\u001b[0;32m--> 390\u001b[0;31m             \u001b[0mstruct\u001b[0m \u001b[0;34m=\u001b[0m \u001b[0mself\u001b[0m\u001b[0;34m.\u001b[0m\u001b[0m_inferSchema\u001b[0m\u001b[0;34m(\u001b[0m\u001b[0mrdd\u001b[0m\u001b[0;34m,\u001b[0m \u001b[0msamplingRatio\u001b[0m\u001b[0;34m,\u001b[0m \u001b[0mnames\u001b[0m\u001b[0;34m=\u001b[0m\u001b[0mschema\u001b[0m\u001b[0;34m)\u001b[0m\u001b[0;34m\u001b[0m\u001b[0;34m\u001b[0m\u001b[0m\n\u001b[0m\u001b[1;32m    391\u001b[0m             \u001b[0mconverter\u001b[0m \u001b[0;34m=\u001b[0m \u001b[0m_create_converter\u001b[0m\u001b[0;34m(\u001b[0m\u001b[0mstruct\u001b[0m\u001b[0;34m)\u001b[0m\u001b[0;34m\u001b[0m\u001b[0;34m\u001b[0m\u001b[0m\n\u001b[1;32m    392\u001b[0m             \u001b[0mrdd\u001b[0m \u001b[0;34m=\u001b[0m \u001b[0mrdd\u001b[0m\u001b[0;34m.\u001b[0m\u001b[0mmap\u001b[0m\u001b[0;34m(\u001b[0m\u001b[0mconverter\u001b[0m\u001b[0;34m)\u001b[0m\u001b[0;34m\u001b[0m\u001b[0;34m\u001b[0m\u001b[0m\n",
      "\u001b[0;32m~/programs/spark/python/pyspark/sql/session.py\u001b[0m in \u001b[0;36m_inferSchema\u001b[0;34m(self, rdd, samplingRatio, names)\u001b[0m\n\u001b[1;32m    359\u001b[0m         \u001b[0;34m:\u001b[0m\u001b[0;32mreturn\u001b[0m\u001b[0;34m:\u001b[0m \u001b[0;34m:\u001b[0m\u001b[0;32mclass\u001b[0m\u001b[0;34m:\u001b[0m\u001b[0;31m`\u001b[0m\u001b[0mpyspark\u001b[0m\u001b[0;34m.\u001b[0m\u001b[0msql\u001b[0m\u001b[0;34m.\u001b[0m\u001b[0mtypes\u001b[0m\u001b[0;34m.\u001b[0m\u001b[0mStructType\u001b[0m\u001b[0;31m`\u001b[0m\u001b[0;34m\u001b[0m\u001b[0;34m\u001b[0m\u001b[0m\n\u001b[1;32m    360\u001b[0m         \"\"\"\n\u001b[0;32m--> 361\u001b[0;31m         \u001b[0mfirst\u001b[0m \u001b[0;34m=\u001b[0m \u001b[0mrdd\u001b[0m\u001b[0;34m.\u001b[0m\u001b[0mfirst\u001b[0m\u001b[0;34m(\u001b[0m\u001b[0;34m)\u001b[0m\u001b[0;34m\u001b[0m\u001b[0;34m\u001b[0m\u001b[0m\n\u001b[0m\u001b[1;32m    362\u001b[0m         \u001b[0;32mif\u001b[0m \u001b[0;32mnot\u001b[0m \u001b[0mfirst\u001b[0m\u001b[0;34m:\u001b[0m\u001b[0;34m\u001b[0m\u001b[0;34m\u001b[0m\u001b[0m\n\u001b[1;32m    363\u001b[0m             raise ValueError(\"The first row in RDD is empty, \"\n",
      "\u001b[0;32m~/programs/spark/python/pyspark/rdd.py\u001b[0m in \u001b[0;36mfirst\u001b[0;34m(self)\u001b[0m\n\u001b[1;32m   1379\u001b[0m         \u001b[0;32mif\u001b[0m \u001b[0mrs\u001b[0m\u001b[0;34m:\u001b[0m\u001b[0;34m\u001b[0m\u001b[0;34m\u001b[0m\u001b[0m\n\u001b[1;32m   1380\u001b[0m             \u001b[0;32mreturn\u001b[0m \u001b[0mrs\u001b[0m\u001b[0;34m[\u001b[0m\u001b[0;36m0\u001b[0m\u001b[0;34m]\u001b[0m\u001b[0;34m\u001b[0m\u001b[0;34m\u001b[0m\u001b[0m\n\u001b[0;32m-> 1381\u001b[0;31m         \u001b[0;32mraise\u001b[0m \u001b[0mValueError\u001b[0m\u001b[0;34m(\u001b[0m\u001b[0;34m\"RDD is empty\"\u001b[0m\u001b[0;34m)\u001b[0m\u001b[0;34m\u001b[0m\u001b[0;34m\u001b[0m\u001b[0m\n\u001b[0m\u001b[1;32m   1382\u001b[0m \u001b[0;34m\u001b[0m\u001b[0m\n\u001b[1;32m   1383\u001b[0m     \u001b[0;32mdef\u001b[0m \u001b[0misEmpty\u001b[0m\u001b[0;34m(\u001b[0m\u001b[0mself\u001b[0m\u001b[0;34m)\u001b[0m\u001b[0;34m:\u001b[0m\u001b[0;34m\u001b[0m\u001b[0;34m\u001b[0m\u001b[0m\n",
      "\u001b[0;31mValueError\u001b[0m: RDD is empty"
     ]
    }
   ],
   "source": [
    "# ego country\n",
    "authorDetails = paa.join(pf, \"paper\")\\\n",
    "    .select(\"author\", \"paper\",\"affiliation\", \"fos\")\\\n",
    "    .rdd.map(lambda row : Row(author = row[0], paper = row[1], affiliation = row[2], fos = getRootFos(row[3]))).toDF()\\\n",
    "    .groupBy(\"author\", \"fos\", \"affiliation\")\\\n",
    "    .agg(F.countDistinct(\"paper\"))\\\n",
    "    .join(MAG.dfAff, col(\"affiliation\") == col(\"id\"))\\\n",
    "    .select(\"author\",\"fos\",\"countryCode\",\"country\")\n",
    "\n",
    "authorDetails"
   ]
  },
  {
   "cell_type": "markdown",
   "metadata": {},
   "source": [
    "# Filtered tables"
   ]
  },
  {
   "cell_type": "code",
   "execution_count": 15,
   "metadata": {},
   "outputs": [
    {
     "data": {
      "text/plain": [
       "DataFrame[paper: int, author: bigint, affiliation: bigint]"
      ]
     },
     "execution_count": 15,
     "metadata": {},
     "output_type": "execute_result"
    }
   ],
   "source": [
    "# FILTERED_PAA_YEARS\n",
    "paa = paa.join(papers, col(\"id\") == col(\"paper\"))\\\n",
    "    .filter( (col(\"year\") >= 2007) & (col(\"year\") <= 2017))\\\n",
    "    .select(\"paper\", \"author\", \"affiliation\")\n",
    "paa"
   ]
  },
  {
   "cell_type": "code",
   "execution_count": 16,
   "metadata": {},
   "outputs": [
    {
     "data": {
      "text/plain": [
       "DataFrame[paper: int, fos: bigint, similarity: double, root: string]"
      ]
     },
     "execution_count": 16,
     "metadata": {},
     "output_type": "execute_result"
    }
   ],
   "source": [
    "# PF_WITH_ROOT\n",
    "pf = pf.withColumn(\"root\", rootFos_udf(\"fos\"))\n",
    "pf"
   ]
  },
  {
   "cell_type": "code",
   "execution_count": 17,
   "metadata": {},
   "outputs": [
    {
     "data": {
      "text/plain": [
       "DataFrame[paper: int, author: bigint, affiliation: bigint]"
      ]
     },
     "execution_count": 17,
     "metadata": {},
     "output_type": "execute_result"
    }
   ],
   "source": [
    "fos = 10\n",
    "# FILTERED_PAA_FOS\n",
    "paa = paa.join(pf, \"paper\")\\\n",
    "    .filter(col(\"root\") == fos)\\\n",
    "    .select(\"paper\", \"author\", \"affiliation\")\n",
    "paa"
   ]
  },
  {
   "cell_type": "markdown",
   "metadata": {},
   "source": [
    "## Add test data"
   ]
  },
  {
   "cell_type": "code",
   "execution_count": 18,
   "metadata": {},
   "outputs": [],
   "source": [
    "from pyspark.sql import Row"
   ]
  },
  {
   "cell_type": "code",
   "execution_count": 55,
   "metadata": {},
   "outputs": [
    {
     "data": {
      "text/plain": [
       "DataFrame[countryCode: string, id: bigint]"
      ]
     },
     "execution_count": 55,
     "metadata": {},
     "output_type": "execute_result"
    }
   ],
   "source": [
    "taffs = [(1, \"RO\") , (2, \"EN\"), (3, \"IT\")]\n",
    "rdd = spark.sparkContext.parallelize(taffs)\n",
    "rdd = rdd.map(lambda x : Row(id = x[0], countryCode = x[1]))\n",
    "taffs = spark.createDataFrame(rdd)\n",
    "taffs"
   ]
  },
  {
   "cell_type": "code",
   "execution_count": 56,
   "metadata": {},
   "outputs": [
    {
     "data": {
      "text/plain": [
       "DataFrame[affiliation: bigint, author: bigint, paper: bigint]"
      ]
     },
     "execution_count": 56,
     "metadata": {},
     "output_type": "execute_result"
    }
   ],
   "source": [
    "tpaa = [(1, 2, 1),(1,3, 1),(2,3, 1),(2,1, 1),(3,2, 1),(1,5, 2),(3,3, 1),(3,5, 2),(4,7, 3)]\n",
    "rdd = spark.sparkContext.parallelize(tpaa)\n",
    "rdd = rdd.map(lambda x: Row(paper=int(x[0]), author=int(x[1]), affiliation = x[2]))\n",
    "tpaa = spark.createDataFrame(rdd)\n",
    "tpaa"
   ]
  },
  {
   "cell_type": "code",
   "execution_count": 57,
   "metadata": {},
   "outputs": [
    {
     "data": {
      "text/plain": [
       "DataFrame[cited: bigint, citing: bigint]"
      ]
     },
     "execution_count": 57,
     "metadata": {},
     "output_type": "execute_result"
    }
   ],
   "source": [
    "tpr = [(1,2), (3, 2), (3,4), (4, 1)]\n",
    "rdd = spark.sparkContext.parallelize(tpr)\n",
    "rdd = rdd.map(lambda x: Row(citing=int(x[0]), cited=int(x[1])))\n",
    "tpr = spark.createDataFrame(rdd)\n",
    "tpr"
   ]
  },
  {
   "cell_type": "code",
   "execution_count": 58,
   "metadata": {},
   "outputs": [
    {
     "data": {
      "text/plain": [
       "DataFrame[id: bigint, year: bigint]"
      ]
     },
     "execution_count": 58,
     "metadata": {},
     "output_type": "execute_result"
    }
   ],
   "source": [
    "tpapers = [ (1, 2007), (2,2008), (3,2008), (4,2009) ]\n",
    "rdd = spark.sparkContext.parallelize(tpapers)\n",
    "rdd = rdd.map(lambda x : Row(id = x[0], year = x[1]))\n",
    "tpapers = spark.createDataFrame(rdd)\n",
    "tpapers"
   ]
  },
  {
   "cell_type": "code",
   "execution_count": 90,
   "metadata": {},
   "outputs": [
    {
     "name": "stdout",
     "output_type": "stream",
     "text": [
      "PAPER AUTHOR AFF\n"
     ]
    },
    {
     "data": {
      "text/plain": [
       "[Row(affiliation=1, author=1, paper=2),\n",
       " Row(affiliation=1, author=2, paper=1),\n",
       " Row(affiliation=1, author=2, paper=3),\n",
       " Row(affiliation=1, author=3, paper=1),\n",
       " Row(affiliation=1, author=3, paper=2),\n",
       " Row(affiliation=1, author=3, paper=3),\n",
       " Row(affiliation=2, author=5, paper=1),\n",
       " Row(affiliation=2, author=5, paper=3),\n",
       " Row(affiliation=3, author=7, paper=4)]"
      ]
     },
     "execution_count": 90,
     "metadata": {},
     "output_type": "execute_result"
    },
    {
     "name": "stdout",
     "output_type": "stream",
     "text": [
      "PAPER REFERENCES\n"
     ]
    },
    {
     "data": {
      "text/plain": [
       "[Row(cited=1, citing=4),\n",
       " Row(cited=2, citing=1),\n",
       " Row(cited=2, citing=3),\n",
       " Row(cited=4, citing=3)]"
      ]
     },
     "execution_count": 90,
     "metadata": {},
     "output_type": "execute_result"
    },
    {
     "name": "stdout",
     "output_type": "stream",
     "text": [
      "PAPERS\n"
     ]
    },
    {
     "data": {
      "text/plain": [
       "[Row(id=1, year=2007),\n",
       " Row(id=2, year=2008),\n",
       " Row(id=3, year=2008),\n",
       " Row(id=4, year=2009)]"
      ]
     },
     "execution_count": 90,
     "metadata": {},
     "output_type": "execute_result"
    },
    {
     "name": "stdout",
     "output_type": "stream",
     "text": [
      "COUNTRIES\n"
     ]
    },
    {
     "data": {
      "text/plain": [
       "[Row(author=3, countryCode='RO'),\n",
       " Row(author=1, countryCode='RO'),\n",
       " Row(author=7, countryCode='IT'),\n",
       " Row(author=5, countryCode='EN'),\n",
       " Row(author=2, countryCode='RO')]"
      ]
     },
     "execution_count": 90,
     "metadata": {},
     "output_type": "execute_result"
    },
    {
     "name": "stdout",
     "output_type": "stream",
     "text": [
      "COAUTHORS\n"
     ]
    },
    {
     "data": {
      "text/plain": [
       "[Row(ego=1, alter=3),\n",
       " Row(ego=2, alter=3),\n",
       " Row(ego=2, alter=5),\n",
       " Row(ego=3, alter=2),\n",
       " Row(ego=3, alter=5),\n",
       " Row(ego=3, alter=1),\n",
       " Row(ego=5, alter=2),\n",
       " Row(ego=5, alter=3)]"
      ]
     },
     "execution_count": 90,
     "metadata": {},
     "output_type": "execute_result"
    }
   ],
   "source": [
    "print('PAPER AUTHOR AFF')\n",
    "tpaa.sort(\"author\").collect()\n",
    "print('PAPER REFERENCES')\n",
    "tpr.sort(\"cited\").collect()\n",
    "print('PAPERS')\n",
    "tpapers.collect()\n",
    "print('COUNTRIES')\n",
    "ego_country.select(\"author\", \"countryCode\").distinct().collect()\n",
    "print('COAUTHORS')\n",
    "paa.alias(\"1\").join(paa.alias(\"2\"), col(\"1.paper\") == col(\"2.paper\"))\\\n",
    "    .filter(col(\"1.author\") != col(\"2.author\"))\\\n",
    "    .select(col(\"1.author\").alias(\"ego\"), col(\"2.author\").alias(\"alter\"))\\\n",
    "    .sort(\"ego\")\\\n",
    "    .distinct()\\\n",
    "    .collect()"
   ]
  },
  {
   "cell_type": "markdown",
   "metadata": {},
   "source": [
    "## New table head"
   ]
  },
  {
   "cell_type": "code",
   "execution_count": 60,
   "metadata": {},
   "outputs": [],
   "source": [
    "paa = tpaa\n",
    "pr = tpr\n",
    "papers = tpapers\n",
    "affs = taffs"
   ]
  },
  {
   "cell_type": "code",
   "execution_count": 67,
   "metadata": {},
   "outputs": [
    {
     "data": {
      "text/plain": [
       "[Row(author=2, paper=1, affiliation=1, countryCode='RO'),\n",
       " Row(author=3, paper=1, affiliation=1, countryCode='RO'),\n",
       " Row(author=3, paper=2, affiliation=1, countryCode='RO'),\n",
       " Row(author=1, paper=2, affiliation=1, countryCode='RO'),\n",
       " Row(author=2, paper=3, affiliation=1, countryCode='RO'),\n",
       " Row(author=3, paper=3, affiliation=1, countryCode='RO'),\n",
       " Row(author=7, paper=4, affiliation=3, countryCode='IT'),\n",
       " Row(author=5, paper=1, affiliation=2, countryCode='EN'),\n",
       " Row(author=5, paper=3, affiliation=2, countryCode='EN')]"
      ]
     },
     "execution_count": 67,
     "metadata": {},
     "output_type": "execute_result"
    }
   ],
   "source": [
    "# PAA_country\n",
    "paa_country = paa.join(affs, col(\"affiliation\") == col(\"id\"))\\\n",
    "    .select(\"author\", \"paper\", \"affiliation\", \"countryCode\")\n",
    "paa_country.collect()"
   ]
  },
  {
   "cell_type": "code",
   "execution_count": 155,
   "metadata": {},
   "outputs": [
    {
     "data": {
      "text/plain": [
       "[Row(author=3, countryCode='RO'),\n",
       " Row(author=1, countryCode='RO'),\n",
       " Row(author=7, countryCode='IT'),\n",
       " Row(author=5, countryCode='EN'),\n",
       " Row(author=2, countryCode='RO')]"
      ]
     },
     "execution_count": 155,
     "metadata": {},
     "output_type": "execute_result"
    }
   ],
   "source": [
    "# EGO_Country\n",
    "ego_country = paa_country.select(\"author\", \"countryCode\").distinct()\n",
    "ego_country.collect()"
   ]
  },
  {
   "cell_type": "code",
   "execution_count": 118,
   "metadata": {},
   "outputs": [
    {
     "data": {
      "text/plain": [
       "[Row(ego=7, papers=1),\n",
       " Row(ego=5, papers=2),\n",
       " Row(ego=1, papers=1),\n",
       " Row(ego=3, papers=3),\n",
       " Row(ego=2, papers=2)]"
      ]
     },
     "execution_count": 118,
     "metadata": {},
     "output_type": "execute_result"
    }
   ],
   "source": [
    "# EGO_papers\n",
    "ego_papers = paa.groupBy(col(\"author\").alias(\"ego\")).count().withColumnRenamed(\"count\",\"papers\")\n",
    "ego_papers.collect()"
   ]
  },
  {
   "cell_type": "code",
   "execution_count": 94,
   "metadata": {},
   "outputs": [
    {
     "data": {
      "text/plain": [
       "[Row(ego=7, citations=1),\n",
       " Row(ego=5, citations=1),\n",
       " Row(ego=1, citations=2),\n",
       " Row(ego=3, citations=3),\n",
       " Row(ego=2, citations=1)]"
      ]
     },
     "execution_count": 94,
     "metadata": {},
     "output_type": "execute_result"
    }
   ],
   "source": [
    "#EGO_citations\n",
    "ego_citations = paa.join(pr, col(\"paper\") == col(\"cited\"))\\\n",
    "    .groupBy(col(\"author\").alias(\"ego\"))\\\n",
    "    .count().withColumnRenamed(\"count\",\"citations\")\\\n",
    "\n",
    "ego_citations.collect()    "
   ]
  },
  {
   "cell_type": "code",
   "execution_count": 139,
   "metadata": {},
   "outputs": [],
   "source": [
    "# EGO_PAIRS - paa join paa\n",
    "paa2 = paa.alias(\"1\").join(paa.alias(\"2\"), col(\"1.paper\") == col(\"2.paper\"))\\\n",
    "    .filter(col(\"1.author\") != col(\"2.author\"))"
   ]
  },
  {
   "cell_type": "code",
   "execution_count": 143,
   "metadata": {},
   "outputs": [
    {
     "data": {
      "text/plain": [
       "[Row(author=5, coauthors=2),\n",
       " Row(author=1, coauthors=1),\n",
       " Row(author=3, coauthors=3),\n",
       " Row(author=2, coauthors=2)]"
      ]
     },
     "execution_count": 143,
     "metadata": {},
     "output_type": "execute_result"
    }
   ],
   "source": [
    "#EGO_coauthors\n",
    "from pyspark.sql.functions import countDistinct\n",
    "paa2.groupBy(\"1.author\")\\\n",
    "    .agg(F.countDistinct(\"2.author\").alias(\"coauthors\"))\\\n",
    "    .collect()"
   ]
  },
  {
   "cell_type": "code",
   "execution_count": 145,
   "metadata": {},
   "outputs": [
    {
     "data": {
      "text/plain": [
       "[Row(ego=3, alter=5),\n",
       " Row(ego=1, alter=3),\n",
       " Row(ego=2, alter=5),\n",
       " Row(ego=2, alter=3),\n",
       " Row(ego=5, alter=2),\n",
       " Row(ego=3, alter=2),\n",
       " Row(ego=5, alter=3),\n",
       " Row(ego=3, alter=1)]"
      ]
     },
     "execution_count": 145,
     "metadata": {},
     "output_type": "execute_result"
    }
   ],
   "source": [
    "# COAUTHORS\n",
    "coauth = paa2\\\n",
    "    .select(col(\"1.author\").alias(\"ego\"), col(\"2.author\").alias(\"alter\"))\\\n",
    "    .distinct()\n",
    "coauth.collect()"
   ]
  },
  {
   "cell_type": "code",
   "execution_count": 146,
   "metadata": {},
   "outputs": [
    {
     "data": {
      "text/plain": [
       "[Row(author=5, years_collaborated=2),\n",
       " Row(author=1, years_collaborated=1),\n",
       " Row(author=3, years_collaborated=2),\n",
       " Row(author=2, years_collaborated=2)]"
      ]
     },
     "execution_count": 146,
     "metadata": {},
     "output_type": "execute_result"
    }
   ],
   "source": [
    "#EGO_edges - numarul de ani in care am colaborat cu coautorii ? \n",
    "from pyspark.sql.functions import countDistinct\n",
    "paa2.join(papers, col(\"id\") == col(\"1.paper\"))\\\n",
    "    .groupBy(\"1.author\")\\\n",
    "    .agg(F.countDistinct(\"year\").alias(\"years_collaborated\"))\\\n",
    "    .collect()"
   ]
  },
  {
   "cell_type": "code",
   "execution_count": 153,
   "metadata": {},
   "outputs": [
    {
     "data": {
      "text/plain": [
       "[Row(author=1, domestics=1),\n",
       " Row(author=3, domestics=2),\n",
       " Row(author=2, domestics=1)]"
      ]
     },
     "execution_count": 153,
     "metadata": {},
     "output_type": "execute_result"
    }
   ],
   "source": [
    "# ALTER_domestic\n",
    "paa = paa_country\n",
    "paa2.filter(col(\"1.countryCode\") == col(\"2.countryCode\"))\\\n",
    "    .groupBy(\"1.author\")\\\n",
    "    .agg(F.countDistinct(\"2.author\").alias(\"domestics\"))\\\n",
    "    .collect()"
   ]
  },
  {
   "cell_type": "code",
   "execution_count": 149,
   "metadata": {},
   "outputs": [
    {
     "data": {
      "text/plain": [
       "[Row(author=5, nondomestics=2),\n",
       " Row(author=3, nondomestics=1),\n",
       " Row(author=2, nondomestics=1)]"
      ]
     },
     "execution_count": 149,
     "metadata": {},
     "output_type": "execute_result"
    }
   ],
   "source": [
    "# ALTER_nondomestic\n",
    "# paa = ego_country\n",
    "paa = tpaa\n",
    "paa2.filter(col(\"1.countryCode\") != col(\"2.countryCode\"))\\\n",
    "    .groupBy(\"1.author\")\\\n",
    "    .agg(F.countDistinct(\"2.author\").alias(\"nondomestics\"))\\\n",
    "    .collect()"
   ]
  },
  {
   "cell_type": "code",
   "execution_count": 137,
   "metadata": {},
   "outputs": [
    {
     "data": {
      "text/plain": [
       "[Row(ego=5, alter_citations=4),\n",
       " Row(ego=1, alter_citations=3),\n",
       " Row(ego=3, alter_citations=4),\n",
       " Row(ego=2, alter_citations=4)]"
      ]
     },
     "execution_count": 137,
     "metadata": {},
     "output_type": "execute_result"
    }
   ],
   "source": [
    "# ALTER_citations - including ego's publications \n",
    "# we will substract ALTER_EGO_CITATIONS with_coauthors afterwards \n",
    "# # if we want to get ALTER_CITATIONS not including ego's publications\n",
    "from pyspark.sql.functions import count\n",
    "coauth.alias(\"1\").join(ego_citations.alias(\"2\"), col(\"1.alter\") == col(\"2.ego\"))\\\n",
    "    .groupBy(col(\"1.ego\"))\\\n",
    "    .agg(F.sum(\"citations\").alias(\"alter_citations\"))\\\n",
    "    .collect()\n",
    "    "
   ]
  },
  {
   "cell_type": "code",
   "execution_count": 127,
   "metadata": {},
   "outputs": [
    {
     "data": {
      "text/plain": [
       "[Row(ego=5, alter_papers=5),\n",
       " Row(ego=1, alter_papers=3),\n",
       " Row(ego=3, alter_papers=5),\n",
       " Row(ego=2, alter_papers=5)]"
      ]
     },
     "execution_count": 127,
     "metadata": {},
     "output_type": "execute_result"
    }
   ],
   "source": [
    "from pyspark.sql.functions import count, sum\n",
    "#ALTER_papers - count total number of papers written by coauthors, including ego's publications\n",
    "# # we can substract like above (ALTER_EGO_PAPERS)\n",
    "coauth.alias(\"1\").join(ego_papers.alias(\"2\"), col(\"1.alter\") == col(\"2.ego\"))\\\n",
    "    .groupBy(\"1.ego\")\\\n",
    "    .agg(F.sum(\"papers\").alias(\"alter_papers\"))\\\n",
    "    .collect()"
   ]
  },
  {
   "cell_type": "markdown",
   "metadata": {},
   "source": [
    "For below, we need a join that takes left elements that do not meet the condition with 0 default value"
   ]
  },
  {
   "cell_type": "code",
   "execution_count": 150,
   "metadata": {},
   "outputs": [
    {
     "data": {
      "text/plain": [
       "[Row(author=5, papers_not_alone=2),\n",
       " Row(author=1, papers_not_alone=1),\n",
       " Row(author=3, papers_not_alone=3),\n",
       " Row(author=2, papers_not_alone=2)]"
      ]
     },
     "execution_count": 150,
     "metadata": {},
     "output_type": "execute_result"
    }
   ],
   "source": [
    "# ALTER_EGO_papers\n",
    "paa2.groupBy(\"1.author\")\\\n",
    "    .agg(F.countDistinct(\"1.paper\").alias(\"papers_not_alone\"))\\\n",
    "    .collect()"
   ]
  },
  {
   "cell_type": "code",
   "execution_count": 151,
   "metadata": {},
   "outputs": [
    {
     "data": {
      "text/plain": [
       "[Row(author=5, citations=1),\n",
       " Row(author=1, citations=2),\n",
       " Row(author=3, citations=3),\n",
       " Row(author=2, citations=1)]"
      ]
     },
     "execution_count": 151,
     "metadata": {},
     "output_type": "execute_result"
    }
   ],
   "source": [
    "# ALTER_EGO_citations\n",
    "paa2.join(pr, col(\"1.paper\") == col(\"cited\"))\\\n",
    "    .groupBy(\"1.author\")\\\n",
    "    .agg(F.countDistinct(\"citing\").alias(\"citations\"))\\\n",
    "    .collect()"
   ]
  },
  {
   "cell_type": "code",
   "execution_count": 152,
   "metadata": {},
   "outputs": [
    {
     "data": {
      "text/plain": [
       "[Row(author=5, countries=1),\n",
       " Row(author=1, countries=1),\n",
       " Row(author=3, countries=2),\n",
       " Row(author=2, countries=2)]"
      ]
     },
     "execution_count": 152,
     "metadata": {},
     "output_type": "execute_result"
    }
   ],
   "source": [
    "# ALTER_country\n",
    "paa2.groupBy(\"1.author\")\\\n",
    "    .agg(F.countDistinct(\"2.countryCode\").alias(\"countries\"))\\\n",
    "    .collect()"
   ]
  },
  {
   "cell_type": "code",
   "execution_count": 136,
   "metadata": {},
   "outputs": [
    {
     "data": {
      "text/plain": [
       "[Row(ego=5, max_alter_papers=3),\n",
       " Row(ego=1, max_alter_papers=3),\n",
       " Row(ego=3, max_alter_papers=2),\n",
       " Row(ego=2, max_alter_papers=3)]"
      ]
     },
     "execution_count": 136,
     "metadata": {},
     "output_type": "execute_result"
    }
   ],
   "source": [
    "# ALTER_MAX_papers\n",
    "coauth.alias(\"1\").join(ego_papers.alias(\"2\"), col(\"1.alter\") == col(\"2.ego\"))\\\n",
    "    .groupBy(\"1.ego\")\\\n",
    "    .agg(F.max(\"papers\").alias(\"max_alter_papers\"))\\\n",
    "    .collect()"
   ]
  },
  {
   "cell_type": "code",
   "execution_count": 135,
   "metadata": {},
   "outputs": [
    {
     "data": {
      "text/plain": [
       "[Row(ego=5, max_alter_citations=3),\n",
       " Row(ego=1, max_alter_citations=3),\n",
       " Row(ego=3, max_alter_citations=2),\n",
       " Row(ego=2, max_alter_citations=3)]"
      ]
     },
     "execution_count": 135,
     "metadata": {},
     "output_type": "execute_result"
    }
   ],
   "source": [
    "# ALTER_MAX_citations\n",
    "coauth.alias(\"1\").join(ego_citations.alias(\"2\"), col(\"1.alter\") == col(\"2.ego\"))\\\n",
    "    .groupBy(col(\"1.ego\"))\\\n",
    "    .agg(F.max(\"citations\").alias(\"max_alter_citations\"))\\\n",
    "    .collect()"
   ]
  }
 ],
 "metadata": {
  "kernelspec": {
   "display_name": "Python 3",
   "language": "python",
   "name": "python3"
  },
  "language_info": {
   "codemirror_mode": {
    "name": "ipython",
    "version": 3
   },
   "file_extension": ".py",
   "mimetype": "text/x-python",
   "name": "python",
   "nbconvert_exporter": "python",
   "pygments_lexer": "ipython3",
   "version": "3.7.5"
  }
 },
 "nbformat": 4,
 "nbformat_minor": 2
}
